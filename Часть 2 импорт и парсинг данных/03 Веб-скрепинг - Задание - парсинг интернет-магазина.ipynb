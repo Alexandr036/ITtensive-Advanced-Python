{
 "cells": [
  {
   "cell_type": "markdown",
   "id": "7a0be027",
   "metadata": {},
   "source": [
    "Задание: парсинг интернет-магазина\n",
    "\n",
    "Используя парсинг данных с маркетплейса beru.ru, найдите, на сколько литров отличается общий объем холодильников Саратов 263 и Саратов 452?\n",
    "\n",
    "Для парсинга можно использовать зеркало страницы beru.ru с результатами для холодильников Саратов по адресу:\n",
    "video.ittensive.com/data/018-python-advanced/beru.ru/"
   ]
  },
  {
   "cell_type": "code",
   "execution_count": 1,
   "id": "2b3208a4",
   "metadata": {},
   "outputs": [
    {
     "name": "stdout",
     "output_type": "stream",
     "text": [
      "73\n"
     ]
    }
   ],
   "source": [
    "# так как сайта беру больше не существует, в на яндекс маркете стоит защита от парсинга, воспользуемся зеркалом\n",
    "import requests\n",
    "from bs4 import BeautifulSoup \n",
    "r = requests.get(\"https://video.ittensive.com/data/018-python-advanced/beru.ru/\")\n",
    "html = BeautifulSoup(r.content) \n",
    "links = html.find_all(\"a\")  # получаем ссылки со страницы, поиском всех тегов начинающийся на a (<a href>)\n",
    "#print(html)  # ищем сарартов 263 и находи тег с классом который будет указывать на название холодильника и ссылку на его страницу\n",
    "links = html.find_all(\"a\", {\"class\":\"_3ioN70chUh Usp3kX1MNT _3Uc73lzxcf\"})  # собираем все ссылки с этим классом\n",
    "\n",
    "# Теперь будем искать в ссылках определенный текст\n",
    "for link in links:\n",
    "    if str(link).find(\"Саратов 263\") > -1:  # Приводим к строковому виду (по ум. это объект BeautifulSoup) и если находится Саратов 263\n",
    "        link_263 = link[\"href\"]  # тогда говорим что линк263 будет равна атрибуту \"href\" (нужная нам ссылка заключена в \"href\")\n",
    "    if str(link).find(\"Саратов 452\") > -1:  # аналогично\n",
    "        link_452 = link[\"href\"]\n",
    "if link_263 and link_452:  # если ссылки успешно получены продолжим\n",
    "    r = requests.get(\"https://video.ittensive.com/data/018-python-advanced/beru.ru/\" + link_263)\n",
    "    html = BeautifulSoup(r.content)\n",
    "    volume_263 = html.find_all(\"span\", {\"class\":\"_112Tad-7AP\"}) # ищем на странице информацию по span и классу _112Tad-7AP - где указан объем \n",
    "    #volume = volume[2].get_text()  # берем третью, с этим классом, где указан общий объем\n",
    "    volume_263 = int(''.join(i for i in volume_263[2].get_text() if i.isdigit()))  # генератор. Проверим все символы из найденного текста и если символ цифра, его вернем, при этом объединяем возвратные цифры с пустой строкой через join\n",
    "    #print(volume_263)\n",
    "    r = requests.get(\"https://video.ittensive.com/data/018-python-advanced/beru.ru/\" + link_452)\n",
    "    html = BeautifulSoup(r.content)\n",
    "    volume_452 = html.find_all(\"span\", {\"class\":\"_112Tad-7AP\"}) # ищем на странице информацию по span и классу _112Tad-7AP - где указан объем \n",
    "    #volume = volume[2].get_text()  # берем третью, с этим классом, где указан общий объем\n",
    "    volume_452 = int(''.join(i for i in volume_452[2].get_text() if i.isdigit()))  # генератор. Проверим все символы из найденного текста и если символ цифра, его вернем, при этом объединяем возвратные цифры с пустой строкой через join\n",
    "    #print(volume_452)\n",
    "print(volume_263 - volume_452)\n",
    "\n"
   ]
  }
 ],
 "metadata": {
  "kernelspec": {
   "display_name": "Python 3.10.5 64-bit",
   "language": "python",
   "name": "python3"
  },
  "language_info": {
   "codemirror_mode": {
    "name": "ipython",
    "version": 3
   },
   "file_extension": ".py",
   "mimetype": "text/x-python",
   "name": "python",
   "nbconvert_exporter": "python",
   "pygments_lexer": "ipython3",
   "version": "3.10.5"
  },
  "vscode": {
   "interpreter": {
    "hash": "cabc1c0307ff36ad707732aa9193e5f78d475ef32be73cdd13d0523dc404be35"
   }
  }
 },
 "nbformat": 4,
 "nbformat_minor": 5
}
