{
 "cells": [
  {
   "cell_type": "markdown",
   "id": "ef9af9d5",
   "metadata": {},
   "source": [
    "Задание: получение данных по API\n",
    "\n",
    "Изучите API Геокодера Яндекса\n",
    "tech.yandex.ru/maps/geocoder/doc/desc/concepts/input_params-docpage/\n",
    "и получите ключ API для него в кабинете разработчика.\n",
    "\n",
    "Выполните запрос к API и узнайте долготу точки на карте (Point) для города Самара.\n",
    "Внимание: активация ключа Геокодера Яндекса может занимать несколько часов (до суток).\n"
   ]
  },
  {
   "cell_type": "code",
   "execution_count": 2,
   "id": "0e72a408",
   "metadata": {},
   "outputs": [
    {
     "name": "stdout",
     "output_type": "stream",
     "text": [
      "Код ответа: 200\n",
      "50.100202\n"
     ]
    }
   ],
   "source": [
    "# GET запрос с параметрами\n",
    "import requests\n",
    "import json\n",
    "\n",
    "request_headers = {\n",
    "    \"Content-Type\": \"application/json\", # заголовок о данных которые отправляем\n",
    "    \"Accept\": \"application/json;charset=UTF-8\" #заголовок о данных которые хотим принимать\n",
    "}\n",
    "# формируем HTTP заголовки которые будут отправленны вместе с данными, вместе с запросом\n",
    "\n",
    "url = \"https://geocode-maps.yandex.ru/1.x/?apikey=1b39da14-5686-4065-bd62-3fb990383ecb&format=json&geocode=Самара&result=1\"\n",
    "# Где apikey - ключ разраба,  format=json - в какм формате получаить, geocode=город Самара - какой город искать\n",
    "\n",
    "# теперь нужно отправить GET запрос \n",
    "response = requests.get(url, headers=request_headers)\n",
    "# это будет наш ответ, результат отправки GET запроса, куда в который передали url, headers\n",
    "print(\"Код ответа:\", response.status_code)\n",
    "resp = json.loads(response.text)\n",
    "#print(resp) посмотрим ответ, нейдеи искомое значение \n",
    "# теперь нужно вычленить наше значение\n",
    "print(resp[\"response\"][\"GeoObjectCollection\"][\"featureMember\"][0][\"GeoObject\"][\"Point\"][\"pos\"].split(\" \")[0])\n"
   ]
  }
 ],
 "metadata": {
  "kernelspec": {
   "display_name": "Python 3 (ipykernel)",
   "language": "python",
   "name": "python3"
  },
  "language_info": {
   "codemirror_mode": {
    "name": "ipython",
    "version": 3
   },
   "file_extension": ".py",
   "mimetype": "text/x-python",
   "name": "python",
   "nbconvert_exporter": "python",
   "pygments_lexer": "ipython3",
   "version": "3.10.5"
  }
 },
 "nbformat": 4,
 "nbformat_minor": 5
}
