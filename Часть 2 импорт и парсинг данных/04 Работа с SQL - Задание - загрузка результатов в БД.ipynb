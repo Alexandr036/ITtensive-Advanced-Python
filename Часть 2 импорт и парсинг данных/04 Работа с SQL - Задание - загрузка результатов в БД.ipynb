{
 "cells": [
  {
   "cell_type": "markdown",
   "id": "1a3c95d9",
   "metadata": {},
   "source": [
    "Задание: загрузка результатов в БД\n",
    "\n",
    "Соберите данные о моделях холодильников Саратов с маркетплейса beru.ru: URL, название, цена, размеры, общий объем, объем холодильной камеры.\n",
    "\n",
    "Создайте соответствующие таблицы в SQLite базе данных и загрузите полученные данные в таблицу beru_goods.\n",
    "Для парсинга можно использовать зеркало страницы beru.ru с результатами для холодильников Саратов по адресу:\n",
    "video.ittensive.com/data/018-python-advanced/beru.ru/"
   ]
  },
  {
   "cell_type": "code",
   "execution_count": 1,
   "id": "91f3d7dc",
   "metadata": {},
   "outputs": [],
   "source": [
    "import sqlite3  # библиотека для работы с базами данных\n",
    "import requests\n",
    "from bs4 import BeautifulSoup\n",
    "import pandas as pd \n",
    "\n",
    "# Соберите данные о моделях холодильников Саратов с маркетплейса beru.ru: URL\n",
    "r = requests.get(\"https://video.ittensive.com/data/018-python-advanced/beru.ru/\")\n",
    "html = BeautifulSoup(r.content)\n",
    "#print(html)\n",
    "links_holod = html.find_all(\"a\", {\"class\":\"_3ioN70chUh Usp3kX1MNT _3Uc73lzxcf\"})  # соберем все ссылки на холодильники\n",
    "#print(html_holod)\n",
    "links_saratov = [] # по мимо Саратова туда затесались другие, отберем только Саратов\n",
    "for link in links_holod:\n",
    "    if str(link).find(\"Саратов\") > -1:\n",
    "        links_saratov.append(link[\"href\"])\n",
    "#print(links_saratov)    "
   ]
  },
  {
   "cell_type": "code",
   "execution_count": 2,
   "id": "76d444c7",
   "metadata": {},
   "outputs": [],
   "source": [
    "# создаем таблицу beru_goods в базе \n",
    "conn = sqlite3.connect(\"/SQLite/data.db3\")  # конект к ранее сзданой БД\n",
    "db = conn.cursor()\n",
    "# db.execute(\"\"\"DROP TABLE beru_goods\"\"\")\n",
    "# conn.commit()\n",
    "# Создадим таблицу beru_goods при помощи db.execute()\n",
    "db.execute(\"\"\"CREATE TABLE beru_goods\n",
    "                (id INTEGER PRIMARY KEY AUTOINCREMENT not null,\n",
    "                url text,\n",
    "                name text default '',\n",
    "                price INTEGER default 0,\n",
    "                sizes text default '',\n",
    "                total_volume INTEGER default 0,\n",
    "                volume_ref_camb INTEGER default 0)\"\"\")\n",
    "# для того чтобы запрос выполнинся нужно выполнить conn.commit()\n",
    "conn.commit()"
   ]
  },
  {
   "cell_type": "code",
   "execution_count": 3,
   "id": "56f219c8",
   "metadata": {},
   "outputs": [],
   "source": [
    "# соберем информацию для загрузки в БД \n",
    "for link in  links_saratov:\n",
    "    r = requests.get(\"https://video.ittensive.com/data/018-python-advanced/beru.ru/\" + link)\n",
    "    html = BeautifulSoup(r.content)\n",
    "    volume = html.find_all(\"span\", {\"class\":\"_112Tad-7AP\"})  # ищем на странице информацию по span и классу _112Tad-7AP - где указан объем \n",
    "    name = html.find(\"h1\", {\"class\":\"_3TfWusA7bt _26mXJDBxtH\"})  # найдем имя\n",
    "    price = html.find(\"span\", {\"class\":\"_1eyJD_sk8K\"}) # найдем цену\n",
    "    size = volume[0].get_text() # найдем размеры\n",
    "    # теперь предстоит найти инфорамцию по обьемам камер, для этого нужно будет перебрать данные по классу _112Tad-7AP  и получить нужные\n",
    "    total_volume = 0\n",
    "    volume_ref_camb = 0\n",
    "    for x in range(0, len(volume)):\n",
    "        if volume[x].get_text().find(\"общий\") > -1:  # ищем по совпадению общий (общий объем)\n",
    "            total_volume = int(''.join(i for i in volume[x].get_text() if i.isdigit()))  # через генератор получаем только цифры объема\n",
    "        elif volume[x].get_text().find(\"холодильной\") > -1: # ищем по совпадению холодильной (объем холодильной)\n",
    "            volume_ref_camb = int(''.join(i for i in volume[x].get_text() if i.isdigit()))  # через генератор получаем только цифры объема\n",
    "    name = name.get_text()  # получим имя извлекая текст из html кода \n",
    "    price = int(''.join(i for i in price.get_text() if i.isdigit())) # через генератор получаем только цифры цены (без р.)\n",
    "    # теперь загрузим полученные данные в базу\n",
    "    db.execute(\"INSERT INTO  beru_goods  (url, name, price, sizes, total_volume, volume_ref_camb) VALUES (?,?,?,?,?,?)\",\n",
    "              (link, name, price, size, total_volume, volume_ref_camb))\n",
    "    conn.commit()  # отправляем для выполнения запроса\n",
    "\n"
   ]
  },
  {
   "cell_type": "code",
   "execution_count": 4,
   "id": "117a1c28",
   "metadata": {},
   "outputs": [
    {
     "name": "stdout",
     "output_type": "stream",
     "text": [
      "   id                                                url  \\\n",
      "0   1               kholodilnik-saratov-452-ksh-120.html   \n",
      "1   2           kholodilnik-saratov-263-kshd-200-30.html   \n",
      "2   3           kholodilnik-saratov-209-kshd-275-65.html   \n",
      "3   4  kholodilnik-saratov-209-belyi-s-chernymi-nakla...   \n",
      "4   5         kholodilnik-saratov-452-ksh-120-seryi.html   \n",
      "5   6       kholodilnik-saratov-550-ksh-120-bez-nto.html   \n",
      "6   7               kholodilnik-saratov-467-ksh-210.html   \n",
      "7   8           kholodilnik-saratov-264-kshd-150-30.html   \n",
      "8   9     kholodilnik-saratov-264-kshd-150-30-seryi.html   \n",
      "9  10                 kholodilnik-saratov-263-seryi.html   \n",
      "\n",
      "                                                name  price  \\\n",
      "0                   Холодильник Саратов 452 (КШ-120)  10728   \n",
      "1               Холодильник Саратов 263 (КШД-200/30)  14299   \n",
      "2               Холодильник Саратов 209 (КШД 275/65)  13292   \n",
      "3  Холодильник Саратов 209 белый с черными наклад...  18259   \n",
      "4             Холодильник Саратов 452 (КШ-120) серый  10946   \n",
      "5           Холодильник Саратов 550 (КШ-120 без НТО)  10545   \n",
      "6                   Холодильник Саратов 467 (КШ-210)  13523   \n",
      "7               Холодильник Саратов 264 (КШД-150/30)  14151   \n",
      "8         Холодильник Саратов 264 (КШД-150/30) серый  14369   \n",
      "9                      Холодильник Саратов 263 серый  14811   \n",
      "\n",
      "                    sizes  total_volume  volume_ref_camb  \n",
      "0   ШхВхГ: 48х89.60х60 см           122              107  \n",
      "1     ШхВхГ: 48х149х60 см           195              165  \n",
      "2  ШхВхГ: 60х163х60.60 см           275              210  \n",
      "3     ШхВхГ: 60х163х61 см           275              210  \n",
      "4   ШхВхГ: 48х89.60х60 см           122              107  \n",
      "5   ШхВхГ: 48х87.50х59 см           122                0  \n",
      "6     ШхВхГ: 48х149х60 см           210              185  \n",
      "7     ШхВхГ: 48х123х60 см           152              122  \n",
      "8     ШхВхГ: 48х123х60 см           152              122  \n",
      "9     ШхВхГ: 48х149х60 см           195              165  \n"
     ]
    }
   ],
   "source": [
    "import pandas as pd \n",
    "data = pd.read_sql_query(\"SELECT * FROM beru_goods\", conn)  # Первый параметр это запрос, второй это коннект к БД\n",
    "print(data)\n",
    "db.close()  # закрываем БД"
   ]
  }
 ],
 "metadata": {
  "kernelspec": {
   "display_name": "Python 3.10.5 64-bit",
   "language": "python",
   "name": "python3"
  },
  "language_info": {
   "codemirror_mode": {
    "name": "ipython",
    "version": 3
   },
   "file_extension": ".py",
   "mimetype": "text/x-python",
   "name": "python",
   "nbconvert_exporter": "python",
   "pygments_lexer": "ipython3",
   "version": "3.10.5"
  },
  "vscode": {
   "interpreter": {
    "hash": "cabc1c0307ff36ad707732aa9193e5f78d475ef32be73cdd13d0523dc404be35"
   }
  }
 },
 "nbformat": 4,
 "nbformat_minor": 5
}
