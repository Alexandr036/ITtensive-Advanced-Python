{
 "cells": [
  {
   "cell_type": "markdown",
   "id": "504d171b",
   "metadata": {},
   "source": [
    "Задание: получение котировок акций\n",
    "\n",
    "Получите данные по котировкам акций со страницы:\n",
    "mfd.ru/marketdata/?id=5&group=16&mode=3&sortHeader=name&sortOrder=1&selectedDate=01.11.2019\n",
    "и найдите, по какому тикеру был максимальный рост числа сделок (в процентах) за 1 ноября 2019 года."
   ]
  },
  {
   "cell_type": "code",
   "execution_count": 1,
   "id": "6fd5d3f0",
   "metadata": {
    "scrolled": false
   },
   "outputs": [
    {
     "name": "stdout",
     "output_type": "stream",
     "text": [
      "        Тикер        Дата Сдел.кол-во Сдел.рост  Сдел.% Цена.зак. Цена.откр.  \\\n",
      "0  +МосЭнерго  01.11.2019        2.29   +0.0215  +0.95%    2.2685       2.28   \n",
      "1    AGRO-гдр  01.11.2019       677.4        −4  −0.59%     681.4      681.4   \n",
      "2    ENPL-гдр  01.11.2019         591      +3.6  +0.61%     587.4      590.2   \n",
      "3    FIVE-гдр  01.11.2019       2 168       +21  +0.98%     2 147    2 142.5   \n",
      "4    FXAU ETF  01.11.2019       1 985        −2  −0.10%     1 987      1 993   \n",
      "\n",
      "  Цена.мин Цена.мах Цена.сред   Объё.шт.       Объё.руб Кол-вл.сдел.  \n",
      "0    2.268   2.2925     2.281  4 299 000    9 802 392.5          517  \n",
      "1      672    687.6     678.2     19 879   13 481 438.4        1 152  \n",
      "2    578.2      595       591     90 989   53 760 851.6          605  \n",
      "3    2 131    2 197     2 169    235 353  510 463 327.5        4 858  \n",
      "4    1 980    2 000     1 992        490        976 277           99  \n"
     ]
    }
   ],
   "source": [
    "import requests \n",
    "import pandas as pd\n",
    "from bs4 import BeautifulSoup\n",
    "\n",
    "#pd.set_option('display.max_rows', None)\n",
    "\n",
    "r = requests.get(\"http://mfd.ru/marketdata/?id=5&group=16&mode=3&sortHeader=name&sortOrder=1&selectedDate=01.11.2019\")  # сделаем get запрос \n",
    "html = BeautifulSoup(r.content)  # загрузим ответ в BeautifulSoup\n",
    "table = html.find(\"table\", {\"mfd-table\"})  # найдем таблицу с тегом mfd-table\n",
    "data = []\n",
    "for tr in table.find_all(\"tr\"):\n",
    "    tr = [td.get_text(strip=True) for td in tr.find_all(\"td\")]  # strip=True - убираем лишние пробелы\n",
    "    if len(tr)>1:  # если строчка не пустая добавляем ее в датафрейм\n",
    "        data.append(tr)\n",
    "# переименнуем колонки для удобства\n",
    "data = pd.DataFrame(data, columns=[\"Тикер\", \"Дата\", \"Сдел.кол-во\", \"Сдел.рост\", \"Сдел.%\",\"Цена.зак.\", \"Цена.откр.\", \"Цена.мин\", \"Цена.мах\", \"Цена.сред\", \"Объё.шт.\", \"Объё.руб\", \"Кол-вл.сдел.\"])\n",
    "data = data[data[\"Сдел.кол-во\"] != \"N/A\"]  # отфильтруем, оставим только те по которым были сделки.\n",
    "print(data.head())"
   ]
  },
  {
   "cell_type": "code",
   "execution_count": 2,
   "id": "5fb8ee25",
   "metadata": {},
   "outputs": [
    {
     "name": "stdout",
     "output_type": "stream",
     "text": [
      "          Тикер        Дата Сдел.кол-во Сдел.рост  Сдел.% Цена.зак.  \\\n",
      "113  ИКРУСС-ИНВ  01.11.2019        33.3      +3.3    11.0        30   \n",
      "\n",
      "    Цена.откр. Цена.мин Цена.мах Цена.сред Объё.шт.   Объё.руб Кол-вл.сдел.  \n",
      "113       29.9     29.9     36.9      32.2   32 300  1 040 630          168  \n"
     ]
    }
   ],
   "source": [
    "data[\"Сдел.%\"] = data[\"Сдел.%\"].str.replace(\"%\",\"\").str.replace(\"−\",\"-\").astype(float)  # чтобы мы могли работать с числовыми данными, удалим % и заменим тире на занк минуса\n",
    "data = data.sort_values(\"Сдел.%\", ascending=False)  # теперь отсортируем по убыванию и получим искомые данные\n",
    "print(data[0:1])"
   ]
  },
  {
   "cell_type": "code",
   "execution_count": null,
   "id": "62c55165",
   "metadata": {},
   "outputs": [],
   "source": []
  }
 ],
 "metadata": {
  "kernelspec": {
   "display_name": "Python 3.10.5 64-bit",
   "language": "python",
   "name": "python3"
  },
  "language_info": {
   "codemirror_mode": {
    "name": "ipython",
    "version": 3
   },
   "file_extension": ".py",
   "mimetype": "text/x-python",
   "name": "python",
   "nbconvert_exporter": "python",
   "pygments_lexer": "ipython3",
   "version": "3.10.5"
  },
  "vscode": {
   "interpreter": {
    "hash": "cabc1c0307ff36ad707732aa9193e5f78d475ef32be73cdd13d0523dc404be35"
   }
  }
 },
 "nbformat": 4,
 "nbformat_minor": 5
}
