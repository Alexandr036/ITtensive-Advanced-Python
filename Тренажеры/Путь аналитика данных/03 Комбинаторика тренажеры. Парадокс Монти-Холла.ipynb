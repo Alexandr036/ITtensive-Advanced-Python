{
 "cells": [
  {
   "attachments": {},
   "cell_type": "markdown",
   "metadata": {},
   "source": [
    "Рассчитайте выгоду (относительный прирост вероятности) при смене решения в парадоксе Монти Холла при 4, 8, 9 и 12 возможностях.<br>\n",
    "Например, при 3 возможностям относительный прирост вероятности равен:<br>\n",
    "(Новая_вероятность - прежняя_вероятность) / прежняя_вероятность = (2/3 - 1/3)/(1/3) = 100%"
   ]
  },
  {
   "cell_type": "code",
   "execution_count": 60,
   "metadata": {},
   "outputs": [
    {
     "name": "stdout",
     "output_type": "stream",
     "text": [
      "0.5\n",
      "0.17\n",
      "0.14\n",
      "0.1\n"
     ]
    }
   ],
   "source": [
    "\n",
    "def monty_hall_paradox(n):\n",
    "    return round(1/(n-2), 2)\n",
    "\n",
    "print(monty_hall_paradox(4))\n",
    "print(monty_hall_paradox(8))\n",
    "print(monty_hall_paradox(9))\n",
    "print(monty_hall_paradox(12))\n"
   ]
  }
 ],
 "metadata": {
  "kernelspec": {
   "display_name": "Python 3",
   "language": "python",
   "name": "python3"
  },
  "language_info": {
   "codemirror_mode": {
    "name": "ipython",
    "version": 3
   },
   "file_extension": ".py",
   "mimetype": "text/x-python",
   "name": "python",
   "nbconvert_exporter": "python",
   "pygments_lexer": "ipython3",
   "version": "3.9.9"
  },
  "orig_nbformat": 4
 },
 "nbformat": 4,
 "nbformat_minor": 2
}
