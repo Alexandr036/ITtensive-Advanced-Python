{
 "cells": [
  {
   "attachments": {},
   "cell_type": "markdown",
   "metadata": {},
   "source": [
    "В решении задачи в качестве исходного дата-сета используйте CSV-файл https://video.ittensive.com/analytics-way/2022-04-22.dataset.csv.\n",
    "\n",
    "На входе у вас есть таблица orders, содержащая все заказы, совершенные в ОЗОН<br>\n",
    "Описание таблицы orders:<br>\n",
    "* user_id (string) - уникальный идентификатор пользователя\n",
    "* order_id (string) - уникальный идентификатор заказа\n",
    "* order_time (Int64) - время сделанного заказа в unixtime (секунды, UTC)\n",
    "* order_cost (float) - стоимость заказа\n",
    "* success_order_flg (bool) - идентификатор, определяющий был ли заказ успешно доставлен. Выполненный заказ - это заказ у которого в данной таблице success_order_flg=True\n",
    "\n",
    "Пользователь считается привлеченным в день date, если он совершает первый заказ в день date.\n",
    "\n",
    "Пользователь считается реактивированным в день date, если он совершает заказ в день date, при этом не совершил ни одного заказа в течении предшествующих 90 дней, но совершал хотя бы 1 заказ за свою пользовательскую историю ранее.\n",
    "\n",
    "На выходе требуется получить таблицу:\n",
    "* date - календарная дата привлечения или реактивации\n",
    "* gmv360d_new - общая стоимость заказов за 360 дней после дня date, совершенных пользователями, привлеченными в день date\n",
    "* gmv360d_reactivated - общая стоимость заказов за 360 дней после дня date, совершенных пользователями, реактивированными в день date\n",
    "* users_count_new - кол-во пользователей, привлеченных в день date\n",
    "* users_count_reactivated- кол-во пользователей, реактивированных в день date\n",
    "\n",
    "Заказы, совершенные пользователем после очередной реактивации, не должны учитываться в расчете GMV для предыдущих периодов активности пользователя. Т.е., например, если пользователь пришел в день 0, совершал заказы по день 30, не совершал заказов до дня 130 и совершил заказ в день 130, его заказы в дни 130-490 должны учитываться только в gmv360d_reactivated для дня 130, но не в gmv360d_new дня 0.\n",
    "\n",
    "То же правило распространяется на повторные реактивации пользователя. То есть если у рассмотренного нами пользователя на 230-й день жизни снова произошла реактивация, то gmv360d_reactivated будет посчитано для предыдущего периода за дни 130-229, а для итогового, с реактивацией на 230-й день, это поле будет рассчитано за дни 230-590.\n",
    "\n",
    "Сколько пользователей было реактивировано 20 марта 2020 года?"
   ]
  },
  {
   "cell_type": "code",
   "execution_count": 8,
   "metadata": {},
   "outputs": [],
   "source": [
    "# загрузка необходимых библиотек\n",
    "\n",
    "import pandas as pd\n",
    "from datetime import datetime"
   ]
  },
  {
   "attachments": {},
   "cell_type": "markdown",
   "metadata": {},
   "source": [
    "Загрузка данных, добавление даты заказа в order_data"
   ]
  },
  {
   "cell_type": "code",
   "execution_count": 51,
   "metadata": {},
   "outputs": [
    {
     "name": "stdout",
     "output_type": "stream",
     "text": [
      "   user_id   order_id  order_time  order_cost  success_order_flg\n",
      "0  1728898  118881751  1578345249  12804.1667                  0\n",
      "1  1728898  132150404  1584367397   5147.2728                  1\n",
      "2  1728898  133654929  1585501200   8600.0000                  1\n",
      "3  1728898  133770763  1585235169   6807.3031                  1\n",
      "4  1766832  118492969  1578582566   2625.0000                  1\n"
     ]
    }
   ],
   "source": [
    "data = pd.read_csv('https://video.ittensive.com/analytics-way/2022-04-22.dataset.csv', sep=';')\n",
    "print(data.head())"
   ]
  },
  {
   "cell_type": "code",
   "execution_count": 52,
   "metadata": {},
   "outputs": [],
   "source": [
    "data['order_date'] = pd.to_datetime(data['order_time'] ,unit='s').dt.date\n",
    "# data['order_date'].astype('datetime64[D]')"
   ]
  },
  {
   "cell_type": "code",
   "execution_count": 53,
   "metadata": {},
   "outputs": [
    {
     "data": {
      "text/html": [
       "<div>\n",
       "<style scoped>\n",
       "    .dataframe tbody tr th:only-of-type {\n",
       "        vertical-align: middle;\n",
       "    }\n",
       "\n",
       "    .dataframe tbody tr th {\n",
       "        vertical-align: top;\n",
       "    }\n",
       "\n",
       "    .dataframe thead th {\n",
       "        text-align: right;\n",
       "    }\n",
       "</style>\n",
       "<table border=\"1\" class=\"dataframe\">\n",
       "  <thead>\n",
       "    <tr style=\"text-align: right;\">\n",
       "      <th></th>\n",
       "      <th>user_id</th>\n",
       "      <th>order_id</th>\n",
       "      <th>order_time</th>\n",
       "      <th>order_cost</th>\n",
       "      <th>success_order_flg</th>\n",
       "      <th>order_date</th>\n",
       "    </tr>\n",
       "  </thead>\n",
       "  <tbody>\n",
       "    <tr>\n",
       "      <th>0</th>\n",
       "      <td>1728898</td>\n",
       "      <td>118881751</td>\n",
       "      <td>1578345249</td>\n",
       "      <td>12804.1667</td>\n",
       "      <td>0</td>\n",
       "      <td>2020-01-06</td>\n",
       "    </tr>\n",
       "    <tr>\n",
       "      <th>1</th>\n",
       "      <td>1728898</td>\n",
       "      <td>132150404</td>\n",
       "      <td>1584367397</td>\n",
       "      <td>5147.2728</td>\n",
       "      <td>1</td>\n",
       "      <td>2020-03-16</td>\n",
       "    </tr>\n",
       "    <tr>\n",
       "      <th>2</th>\n",
       "      <td>1728898</td>\n",
       "      <td>133654929</td>\n",
       "      <td>1585501200</td>\n",
       "      <td>8600.0000</td>\n",
       "      <td>1</td>\n",
       "      <td>2020-03-29</td>\n",
       "    </tr>\n",
       "    <tr>\n",
       "      <th>3</th>\n",
       "      <td>1728898</td>\n",
       "      <td>133770763</td>\n",
       "      <td>1585235169</td>\n",
       "      <td>6807.3031</td>\n",
       "      <td>1</td>\n",
       "      <td>2020-03-26</td>\n",
       "    </tr>\n",
       "    <tr>\n",
       "      <th>4</th>\n",
       "      <td>1766832</td>\n",
       "      <td>118492969</td>\n",
       "      <td>1578582566</td>\n",
       "      <td>2625.0000</td>\n",
       "      <td>1</td>\n",
       "      <td>2020-01-09</td>\n",
       "    </tr>\n",
       "    <tr>\n",
       "      <th>5</th>\n",
       "      <td>1766832</td>\n",
       "      <td>120888914</td>\n",
       "      <td>1579343582</td>\n",
       "      <td>2408.0000</td>\n",
       "      <td>0</td>\n",
       "      <td>2020-01-18</td>\n",
       "    </tr>\n",
       "    <tr>\n",
       "      <th>6</th>\n",
       "      <td>1766832</td>\n",
       "      <td>124602594</td>\n",
       "      <td>1581249228</td>\n",
       "      <td>7494.0000</td>\n",
       "      <td>1</td>\n",
       "      <td>2020-02-09</td>\n",
       "    </tr>\n",
       "    <tr>\n",
       "      <th>7</th>\n",
       "      <td>1766832</td>\n",
       "      <td>124604579</td>\n",
       "      <td>1581498821</td>\n",
       "      <td>2913.3332</td>\n",
       "      <td>1</td>\n",
       "      <td>2020-02-12</td>\n",
       "    </tr>\n",
       "    <tr>\n",
       "      <th>8</th>\n",
       "      <td>1766832</td>\n",
       "      <td>125072398</td>\n",
       "      <td>1581278385</td>\n",
       "      <td>1765.5001</td>\n",
       "      <td>1</td>\n",
       "      <td>2020-02-09</td>\n",
       "    </tr>\n",
       "    <tr>\n",
       "      <th>9</th>\n",
       "      <td>1766832</td>\n",
       "      <td>125198531</td>\n",
       "      <td>1581331692</td>\n",
       "      <td>1536.6668</td>\n",
       "      <td>1</td>\n",
       "      <td>2020-02-10</td>\n",
       "    </tr>\n",
       "  </tbody>\n",
       "</table>\n",
       "</div>"
      ],
      "text/plain": [
       "   user_id   order_id  order_time  order_cost  success_order_flg  order_date\n",
       "0  1728898  118881751  1578345249  12804.1667                  0  2020-01-06\n",
       "1  1728898  132150404  1584367397   5147.2728                  1  2020-03-16\n",
       "2  1728898  133654929  1585501200   8600.0000                  1  2020-03-29\n",
       "3  1728898  133770763  1585235169   6807.3031                  1  2020-03-26\n",
       "4  1766832  118492969  1578582566   2625.0000                  1  2020-01-09\n",
       "5  1766832  120888914  1579343582   2408.0000                  0  2020-01-18\n",
       "6  1766832  124602594  1581249228   7494.0000                  1  2020-02-09\n",
       "7  1766832  124604579  1581498821   2913.3332                  1  2020-02-12\n",
       "8  1766832  125072398  1581278385   1765.5001                  1  2020-02-09\n",
       "9  1766832  125198531  1581331692   1536.6668                  1  2020-02-10"
      ]
     },
     "execution_count": 53,
     "metadata": {},
     "output_type": "execute_result"
    }
   ],
   "source": [
    "data.head(10)"
   ]
  },
  {
   "cell_type": "code",
   "execution_count": 54,
   "metadata": {},
   "outputs": [
    {
     "name": "stdout",
     "output_type": "stream",
     "text": [
      "<class 'pandas.core.frame.DataFrame'>\n",
      "RangeIndex: 56680 entries, 0 to 56679\n",
      "Data columns (total 6 columns):\n",
      " #   Column             Non-Null Count  Dtype  \n",
      "---  ------             --------------  -----  \n",
      " 0   user_id            56680 non-null  int64  \n",
      " 1   order_id           56680 non-null  int64  \n",
      " 2   order_time         56680 non-null  int64  \n",
      " 3   order_cost         56680 non-null  float64\n",
      " 4   success_order_flg  56680 non-null  int64  \n",
      " 5   order_date         56680 non-null  object \n",
      "dtypes: float64(1), int64(4), object(1)\n",
      "memory usage: 2.6+ MB\n"
     ]
    }
   ],
   "source": [
    "data.info()"
   ]
  }
 ],
 "metadata": {
  "kernelspec": {
   "display_name": "Python 3",
   "language": "python",
   "name": "python3"
  },
  "language_info": {
   "codemirror_mode": {
    "name": "ipython",
    "version": 3
   },
   "file_extension": ".py",
   "mimetype": "text/x-python",
   "name": "python",
   "nbconvert_exporter": "python",
   "pygments_lexer": "ipython3",
   "version": "3.9.9"
  },
  "orig_nbformat": 4
 },
 "nbformat": 4,
 "nbformat_minor": 2
}
