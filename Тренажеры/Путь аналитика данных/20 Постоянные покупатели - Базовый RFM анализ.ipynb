{
 "cells": [
  {
   "attachments": {},
   "cell_type": "markdown",
   "metadata": {},
   "source": [
    "В решении задачи в качестве исходного дата-сета используйте CSV-файл https://video.ittensive.com/analytics-way/2022-04-22.dataset.csv.\n",
    "\n",
    "На входе у вас есть таблица orders, содержащая все заказы, совершенные в ОЗОН<br>\n",
    "Описание таблицы orders:<br>\n",
    "* user_id (string) - уникальный идентификатор пользователя\n",
    "* order_id (string) - уникальный идентификатор заказа\n",
    "* order_time (Int64) - время сделанного заказа в unixtime (секунды, UTC)\n",
    "* order_cost (float) - стоимость заказа\n",
    "* success_order_flg (bool) - идентификатор, определяющий был ли заказ успешно доставлен. Выполненный заказ - это заказ у которого в данной таблице success_order_flg=True\n",
    "\n",
    "Пользователь считается привлеченным в день date, если он совершает первый заказ в день date.\n",
    "\n",
    "Пользователь считается реактивированным в день date, если он совершает заказ в день date, при этом не совершил ни одного заказа в течении предшествующих 90 дней, но совершал хотя бы 1 заказ за свою пользовательскую историю ранее.\n",
    "\n",
    "На выходе требуется получить таблицу:\n",
    "* date - календарная дата привлечения или реактивации\n",
    "* gmv360d_new - общая стоимость заказов за 360 дней после дня date, совершенных пользователями, привлеченными в день date\n",
    "* gmv360d_reactivated - общая стоимость заказов за 360 дней после дня date, совершенных пользователями, реактивированными в день date\n",
    "* users_count_new - кол-во пользователей, привлеченных в день date\n",
    "* users_count_reactivated- кол-во пользователей, реактивированных в день date\n",
    "\n",
    "Заказы, совершенные пользователем после очередной реактивации, не должны учитываться в расчете GMV для предыдущих периодов активности пользователя. Т.е., например, если пользователь пришел в день 0, совершал заказы по день 30, не совершал заказов до дня 130 и совершил заказ в день 130, его заказы в дни 130-490 должны учитываться только в gmv360d_reactivated для дня 130, но не в gmv360d_new дня 0.\n",
    "\n",
    "То же правило распространяется на повторные реактивации пользователя. То есть если у рассмотренного нами пользователя на 230-й день жизни снова произошла реактивация, то gmv360d_reactivated будет посчитано для предыдущего периода за дни 130-229, а для итогового, с реактивацией на 230-й день, это поле будет рассчитано за дни 230-590.\n",
    "\n",
    "Сколько пользователей было реактивировано 20 марта 2020 года?"
   ]
  },
  {
   "cell_type": "code",
   "execution_count": 95,
   "metadata": {},
   "outputs": [],
   "source": [
    "# загрузка необходимых библиотек\n",
    "\n",
    "import pandas as pd\n",
    "from datetime import datetime, timedelta"
   ]
  },
  {
   "attachments": {},
   "cell_type": "markdown",
   "metadata": {},
   "source": [
    "Загрузка данных, добавление даты заказа в order_data"
   ]
  },
  {
   "cell_type": "code",
   "execution_count": 96,
   "metadata": {},
   "outputs": [
    {
     "name": "stdout",
     "output_type": "stream",
     "text": [
      "   user_id   order_id  order_time  order_cost  success_order_flg\n",
      "0  1728898  118881751  1578345249  12804.1667                  0\n",
      "1  1728898  132150404  1584367397   5147.2728                  1\n",
      "2  1728898  133654929  1585501200   8600.0000                  1\n"
     ]
    }
   ],
   "source": [
    "data = pd.read_csv('https://video.ittensive.com/analytics-way/2022-04-22.dataset.csv', sep=';')\n",
    "print(data.head(3))"
   ]
  },
  {
   "attachments": {},
   "cell_type": "markdown",
   "metadata": {},
   "source": [
    "Добавим новую серию данных дата заказа и сделаем индексом"
   ]
  },
  {
   "cell_type": "code",
   "execution_count": 97,
   "metadata": {},
   "outputs": [
    {
     "data": {
      "text/html": [
       "<div>\n",
       "<style scoped>\n",
       "    .dataframe tbody tr th:only-of-type {\n",
       "        vertical-align: middle;\n",
       "    }\n",
       "\n",
       "    .dataframe tbody tr th {\n",
       "        vertical-align: top;\n",
       "    }\n",
       "\n",
       "    .dataframe thead th {\n",
       "        text-align: right;\n",
       "    }\n",
       "</style>\n",
       "<table border=\"1\" class=\"dataframe\">\n",
       "  <thead>\n",
       "    <tr style=\"text-align: right;\">\n",
       "      <th></th>\n",
       "      <th>user_id</th>\n",
       "      <th>order_id</th>\n",
       "      <th>order_time</th>\n",
       "      <th>order_cost</th>\n",
       "      <th>success_order_flg</th>\n",
       "    </tr>\n",
       "    <tr>\n",
       "      <th>order_date</th>\n",
       "      <th></th>\n",
       "      <th></th>\n",
       "      <th></th>\n",
       "      <th></th>\n",
       "      <th></th>\n",
       "    </tr>\n",
       "  </thead>\n",
       "  <tbody>\n",
       "    <tr>\n",
       "      <th>2020-01-06</th>\n",
       "      <td>1728898</td>\n",
       "      <td>118881751</td>\n",
       "      <td>1578345249</td>\n",
       "      <td>12804.1667</td>\n",
       "      <td>0</td>\n",
       "    </tr>\n",
       "    <tr>\n",
       "      <th>2020-03-16</th>\n",
       "      <td>1728898</td>\n",
       "      <td>132150404</td>\n",
       "      <td>1584367397</td>\n",
       "      <td>5147.2728</td>\n",
       "      <td>1</td>\n",
       "    </tr>\n",
       "    <tr>\n",
       "      <th>2020-03-29</th>\n",
       "      <td>1728898</td>\n",
       "      <td>133654929</td>\n",
       "      <td>1585501200</td>\n",
       "      <td>8600.0000</td>\n",
       "      <td>1</td>\n",
       "    </tr>\n",
       "  </tbody>\n",
       "</table>\n",
       "</div>"
      ],
      "text/plain": [
       "            user_id   order_id  order_time  order_cost  success_order_flg\n",
       "order_date                                                               \n",
       "2020-01-06  1728898  118881751  1578345249  12804.1667                  0\n",
       "2020-03-16  1728898  132150404  1584367397   5147.2728                  1\n",
       "2020-03-29  1728898  133654929  1585501200   8600.0000                  1"
      ]
     },
     "execution_count": 97,
     "metadata": {},
     "output_type": "execute_result"
    }
   ],
   "source": [
    "data['order_date'] = pd.to_datetime(data['order_time'] ,unit='s').dt.date.astype('datetime64[D]')\n",
    "data.set_index('order_date', inplace = True)\n",
    "data.head(3)"
   ]
  },
  {
   "cell_type": "code",
   "execution_count": 98,
   "metadata": {},
   "outputs": [
    {
     "data": {
      "text/plain": [
       "DatetimeIndex(['2020-01-06', '2020-03-16', '2020-03-29', '2020-03-26',\n",
       "               '2020-01-09'],\n",
       "              dtype='datetime64[ns]', name='order_date', freq=None)"
      ]
     },
     "execution_count": 98,
     "metadata": {},
     "output_type": "execute_result"
    }
   ],
   "source": [
    "data.index[:5]"
   ]
  },
  {
   "cell_type": "code",
   "execution_count": 107,
   "metadata": {},
   "outputs": [],
   "source": [
    "# data.info()"
   ]
  },
  {
   "attachments": {},
   "cell_type": "markdown",
   "metadata": {},
   "source": [
    "Пользователь считается реактивированным в день date, если он совершает заказ в день date, при этом не совершил ни одного заказа в течении предшествующих 90 дней, но совершал хотя бы 1 заказ за свою пользовательскую историю ранее.\n",
    "\n",
    "На выходе требуется получить таблицу:\n",
    "* date - календарная дата привлечения или реактивации\n",
    "* gmv360d_new - общая стоимость заказов за 360 дней после дня date, совершенных пользователями, привлеченными в день date\n",
    "* gmv360d_reactivated - общая стоимость заказов за 360 дней после дня date, совершенных пользователями, реактивированными в день date\n",
    "* users_count_new - кол-во пользователей, привлеченных в день date\n",
    "* users_count_reactivated- кол-во пользователей, реактивированных в день date\n",
    "\n",
    "Сколько пользователей было реактивировано 20 марта 2020 года?"
   ]
  },
  {
   "cell_type": "code",
   "execution_count": 100,
   "metadata": {},
   "outputs": [],
   "source": [
    "day = '2020-03-20'"
   ]
  },
  {
   "cell_type": "code",
   "execution_count": 108,
   "metadata": {},
   "outputs": [
    {
     "name": "stdout",
     "output_type": "stream",
     "text": [
      "2019-12-21 - дата начала отсчета 90 дней до даты реактивации 2020-03-20\n",
      "2019-12-21 - 360 день после даты реактивации 2020-03-20\n"
     ]
    }
   ],
   "source": [
    "data_day = data[day:day]\n",
    "day2 = (data_day.index[0] + timedelta(days=-90))\n",
    "day360 = (data_day.index[0] + timedelta(days=360))\n",
    "\n",
    "date_delta= day2.strftime('%Y-%m-%d')\n",
    "date_delta_360 = day360.strftime('%Y-%m-%d')\n",
    "\n",
    "print(f\"{date_delta} - дата начала отсчета 90 дней до даты реактивации {day}\")\n",
    "print(f\"{date_delta} - 360 день после даты реактивации {day}\")"
   ]
  },
  {
   "cell_type": "code",
   "execution_count": 102,
   "metadata": {},
   "outputs": [
    {
     "name": "stdout",
     "output_type": "stream",
     "text": [
      "9471 - количество пользователей которые совершили хотя бы 1 заказ, до даты реактивации 2020-03-20.\n"
     ]
    }
   ],
   "source": [
    "# пользователи которые совершили хотя бы 1 заказ до дня реактивации day\n",
    "user_order_yes_before_day = data[:day]\n",
    "user_order_yes = list(user_order_yes_before_day[user_order_yes_before_day['success_order_flg'] == 1]['user_id'].unique())\n",
    "print(f'{len(user_order_yes)} - количество пользователей которые совершили хотя бы 1 заказ, до даты реактивации {day}.')"
   ]
  },
  {
   "cell_type": "code",
   "execution_count": 103,
   "metadata": {},
   "outputs": [
    {
     "name": "stderr",
     "output_type": "stream",
     "text": [
      "C:\\Users\\Alexa\\AppData\\Local\\Temp\\ipykernel_25596\\861398477.py:2: FutureWarning: Value based partial slicing on non-monotonic DatetimeIndexes with non-existing keys is deprecated and will raise a KeyError in a future Version.\n",
      "  user_no_order_90day_before_day = data[date_delta:day]\n"
     ]
    },
    {
     "name": "stdout",
     "output_type": "stream",
     "text": [
      "0 - количество пользователей, которое не совершали заказы за прошедшие 90 дней до даты реактивации 2020-03-20, хотя делали это ранее.\n"
     ]
    }
   ],
   "source": [
    "# не совершил ни одного заказа в течении предшествующих 90 дней дню day\n",
    "user_no_order_90day_before_day = data[date_delta:day]\n",
    "user_order_90day = list(user_no_order_90day_before_day[user_no_order_90day_before_day['success_order_flg'] == 1]['user_id'].unique())\n",
    "user_no_order_90day = []\n",
    "for i in range(len(user_order_yes)):\n",
    "    if user_order_yes[i] not in user_order_90day:  # если не совершал в 90 дней, но совершал ранее\n",
    "        user_no_order_90day.append(user_order_yes[i])  # добавляем в список не совершавших в 90 дней\n",
    "\n",
    "print(f'{len(user_no_order_90day)} - количество пользователей, которое не совершали заказы за прошедшие 90 дней до даты реактивации {day}, хотя делали это ранее.')"
   ]
  },
  {
   "cell_type": "code",
   "execution_count": 104,
   "metadata": {},
   "outputs": [
    {
     "name": "stdout",
     "output_type": "stream",
     "text": [
      "282 - пользователя совершили заказ на дату реактивации 2020-03-20\n"
     ]
    }
   ],
   "source": [
    "# пользователи совершившие заказ в день day\n",
    "user_order_yes_in_day = data[day:day]\n",
    "user_order_yes_in_day= list(user_order_yes_in_day[(user_order_yes_in_day['success_order_flg'] == 1)]['user_id'].unique())\n",
    "print(f'{len(user_order_yes_in_day)} - пользователя совершили заказ на дату реактивации {day}')"
   ]
  },
  {
   "cell_type": "code",
   "execution_count": 105,
   "metadata": {},
   "outputs": [
    {
     "name": "stdout",
     "output_type": "stream",
     "text": [
      "0 - пользователей было привлечено в дату 2020-03-20.\n"
     ]
    }
   ],
   "source": [
    "# users_count_new - кол-во пользователей, привлеченных в день date\n",
    "users_count_new = 0\n",
    "for i in range(len(user_order_yes_in_day)):\n",
    "    if user_order_yes_in_day[i] not in user_order_yes:\n",
    "        users_count_new += 1\n",
    "print(f'{users_count_new} - пользователей было привлечено в дату {day}.')"
   ]
  },
  {
   "attachments": {},
   "cell_type": "markdown",
   "metadata": {},
   "source": [
    "#### Сколько пользователей было реактивировано 20 марта 2020 года?"
   ]
  },
  {
   "cell_type": "code",
   "execution_count": 106,
   "metadata": {},
   "outputs": [
    {
     "name": "stdout",
     "output_type": "stream",
     "text": [
      "0 - пользователей было реактивировано в дату реактивации 2020-03-20.\n"
     ]
    }
   ],
   "source": [
    "users_count_reactivated = 0\n",
    "for i in range(len(user_no_order_90day)):\n",
    "    if user_no_order_90day[i] in user_order_yes:\n",
    "        users_count_reactivated += 1\n",
    "print(f'{users_count_reactivated} - пользователей было реактивировано в дату реактивации {day}.')"
   ]
  },
  {
   "attachments": {},
   "cell_type": "markdown",
   "metadata": {},
   "source": [
    "* gmv360d_new - общая стоимость заказов за 360 дней после дня date, совершенных пользователями, привлеченными в день date\n",
    "* gmv360d_reactivated - общая стоимость заказов за 360 дней после дня date, совершенных пользователями, реактивированными в день date\n",
    "\n",
    "В процессе обдумывания алгоритма решения."
   ]
  }
 ],
 "metadata": {
  "kernelspec": {
   "display_name": "Python 3",
   "language": "python",
   "name": "python3"
  },
  "language_info": {
   "codemirror_mode": {
    "name": "ipython",
    "version": 3
   },
   "file_extension": ".py",
   "mimetype": "text/x-python",
   "name": "python",
   "nbconvert_exporter": "python",
   "pygments_lexer": "ipython3",
   "version": "3.9.9"
  },
  "orig_nbformat": 4
 },
 "nbformat": 4,
 "nbformat_minor": 2
}
