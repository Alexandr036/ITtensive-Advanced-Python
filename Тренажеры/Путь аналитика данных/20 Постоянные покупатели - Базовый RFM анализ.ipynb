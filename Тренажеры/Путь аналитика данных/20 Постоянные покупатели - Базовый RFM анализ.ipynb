{
 "cells": [
  {
   "attachments": {},
   "cell_type": "markdown",
   "metadata": {},
   "source": [
    "В решении задачи в качестве исходного дата-сета используйте CSV-файл https://video.ittensive.com/analytics-way/2022-04-22.dataset.csv.\n",
    "\n",
    "На входе у вас есть таблица orders, содержащая все заказы, совершенные в ОЗОН<br>\n",
    "Описание таблицы orders:<br>\n",
    "* user_id (string) - уникальный идентификатор пользователя\n",
    "* order_id (string) - уникальный идентификатор заказа\n",
    "* order_time (Int64) - время сделанного заказа в unixtime (секунды, UTC)\n",
    "* order_cost (float) - стоимость заказа\n",
    "* success_order_flg (bool) - идентификатор, определяющий был ли заказ успешно доставлен. Выполненный заказ - это заказ у которого в данной таблице success_order_flg=True\n",
    "\n",
    "Пользователь считается привлеченным в день date, если он совершает первый заказ в день date.\n",
    "\n",
    "Пользователь считается реактивированным в день date, если он совершает заказ в день date, при этом не совершил ни одного заказа в течении предшествующих 90 дней, но совершал хотя бы 1 заказ за свою пользовательскую историю ранее.\n",
    "\n",
    "На выходе требуется получить таблицу:\n",
    "* date - календарная дата привлечения или реактивации\n",
    "* gmv360d_new - общая стоимость заказов за 360 дней после дня date, совершенных пользователями, привлеченными в день date\n",
    "* gmv360d_reactivated - общая стоимость заказов за 360 дней после дня date, совершенных пользователями, реактивированными в день date\n",
    "* users_count_new - кол-во пользователей, привлеченных в день date\n",
    "* users_count_reactivated- кол-во пользователей, реактивированных в день date\n",
    "\n",
    "Заказы, совершенные пользователем после очередной реактивации, не должны учитываться в расчете GMV для предыдущих периодов активности пользователя. Т.е., например, если пользователь пришел в день 0, совершал заказы по день 30, не совершал заказов до дня 130 и совершил заказ в день 130, его заказы в дни 130-490 должны учитываться только в gmv360d_reactivated для дня 130, но не в gmv360d_new дня 0.\n",
    "\n",
    "То же правило распространяется на повторные реактивации пользователя. То есть если у рассмотренного нами пользователя на 230-й день жизни снова произошла реактивация, то gmv360d_reactivated будет посчитано для предыдущего периода за дни 130-229, а для итогового, с реактивацией на 230-й день, это поле будет рассчитано за дни 230-590.\n",
    "\n",
    "Сколько пользователей было реактивировано 20 марта 2020 года?"
   ]
  },
  {
   "cell_type": "code",
   "execution_count": 1,
   "metadata": {},
   "outputs": [],
   "source": [
    "# загрузка необходимых библиотек\n",
    "\n",
    "import pandas as pd\n",
    "from datetime import datetime"
   ]
  },
  {
   "attachments": {},
   "cell_type": "markdown",
   "metadata": {},
   "source": [
    "Загрузка данных, добавление даты заказа в order_data"
   ]
  },
  {
   "cell_type": "code",
   "execution_count": 3,
   "metadata": {},
   "outputs": [
    {
     "name": "stdout",
     "output_type": "stream",
     "text": [
      "   user_id   order_id  order_time  order_cost  success_order_flg\n",
      "0  1728898  118881751  1578345249  12804.1667                  0\n",
      "1  1728898  132150404  1584367397   5147.2728                  1\n",
      "2  1728898  133654929  1585501200   8600.0000                  1\n"
     ]
    }
   ],
   "source": [
    "data = pd.read_csv('https://video.ittensive.com/analytics-way/2022-04-22.dataset.csv', sep=';')\n",
    "print(data.head(3))"
   ]
  },
  {
   "attachments": {},
   "cell_type": "markdown",
   "metadata": {},
   "source": [
    "Добавим новую серию данных дата заказа."
   ]
  },
  {
   "cell_type": "code",
   "execution_count": 4,
   "metadata": {},
   "outputs": [
    {
     "data": {
      "text/html": [
       "<div>\n",
       "<style scoped>\n",
       "    .dataframe tbody tr th:only-of-type {\n",
       "        vertical-align: middle;\n",
       "    }\n",
       "\n",
       "    .dataframe tbody tr th {\n",
       "        vertical-align: top;\n",
       "    }\n",
       "\n",
       "    .dataframe thead th {\n",
       "        text-align: right;\n",
       "    }\n",
       "</style>\n",
       "<table border=\"1\" class=\"dataframe\">\n",
       "  <thead>\n",
       "    <tr style=\"text-align: right;\">\n",
       "      <th></th>\n",
       "      <th>user_id</th>\n",
       "      <th>order_id</th>\n",
       "      <th>order_time</th>\n",
       "      <th>order_cost</th>\n",
       "      <th>success_order_flg</th>\n",
       "      <th>order_date</th>\n",
       "    </tr>\n",
       "  </thead>\n",
       "  <tbody>\n",
       "    <tr>\n",
       "      <th>0</th>\n",
       "      <td>1728898</td>\n",
       "      <td>118881751</td>\n",
       "      <td>1578345249</td>\n",
       "      <td>12804.1667</td>\n",
       "      <td>0</td>\n",
       "      <td>2020-01-06</td>\n",
       "    </tr>\n",
       "    <tr>\n",
       "      <th>1</th>\n",
       "      <td>1728898</td>\n",
       "      <td>132150404</td>\n",
       "      <td>1584367397</td>\n",
       "      <td>5147.2728</td>\n",
       "      <td>1</td>\n",
       "      <td>2020-03-16</td>\n",
       "    </tr>\n",
       "    <tr>\n",
       "      <th>2</th>\n",
       "      <td>1728898</td>\n",
       "      <td>133654929</td>\n",
       "      <td>1585501200</td>\n",
       "      <td>8600.0000</td>\n",
       "      <td>1</td>\n",
       "      <td>2020-03-29</td>\n",
       "    </tr>\n",
       "  </tbody>\n",
       "</table>\n",
       "</div>"
      ],
      "text/plain": [
       "   user_id   order_id  order_time  order_cost  success_order_flg order_date\n",
       "0  1728898  118881751  1578345249  12804.1667                  0 2020-01-06\n",
       "1  1728898  132150404  1584367397   5147.2728                  1 2020-03-16\n",
       "2  1728898  133654929  1585501200   8600.0000                  1 2020-03-29"
      ]
     },
     "execution_count": 4,
     "metadata": {},
     "output_type": "execute_result"
    }
   ],
   "source": [
    "data['order_date'] = pd.to_datetime(data['order_time'] ,unit='s').dt.date.astype('datetime64[D]')\n",
    "data.head(3)"
   ]
  },
  {
   "cell_type": "code",
   "execution_count": 5,
   "metadata": {},
   "outputs": [
    {
     "name": "stdout",
     "output_type": "stream",
     "text": [
      "<class 'pandas.core.frame.DataFrame'>\n",
      "RangeIndex: 56680 entries, 0 to 56679\n",
      "Data columns (total 6 columns):\n",
      " #   Column             Non-Null Count  Dtype         \n",
      "---  ------             --------------  -----         \n",
      " 0   user_id            56680 non-null  int64         \n",
      " 1   order_id           56680 non-null  int64         \n",
      " 2   order_time         56680 non-null  int64         \n",
      " 3   order_cost         56680 non-null  float64       \n",
      " 4   success_order_flg  56680 non-null  int64         \n",
      " 5   order_date         56680 non-null  datetime64[ns]\n",
      "dtypes: datetime64[ns](1), float64(1), int64(4)\n",
      "memory usage: 2.6 MB\n"
     ]
    }
   ],
   "source": [
    "data.info()"
   ]
  },
  {
   "attachments": {},
   "cell_type": "markdown",
   "metadata": {},
   "source": [
    "Пользователь считается реактивированным в день date, если он совершает заказ в день date, при этом не совершил ни одного заказа в течении предшествующих 90 дней, но совершал хотя бы 1 заказ за свою пользовательскую историю ранее.\n",
    "\n",
    "На выходе требуется получить таблицу:\n",
    "* date - календарная дата привлечения или реактивации\n",
    "* gmv360d_new - общая стоимость заказов за 360 дней после дня date, совершенных пользователями, привлеченными в день date\n",
    "* gmv360d_reactivated - общая стоимость заказов за 360 дней после дня date, совершенных пользователями, реактивированными в день date\n",
    "* users_count_new - кол-во пользователей, привлеченных в день date\n",
    "* users_count_reactivated- кол-во пользователей, реактивированных в день date\n",
    "\n",
    "Сколько пользователей было реактивировано 20 марта 2020 года?"
   ]
  },
  {
   "cell_type": "code",
   "execution_count": 7,
   "metadata": {},
   "outputs": [
    {
     "name": "stdout",
     "output_type": "stream",
     "text": [
      "9471 - количество пользователей которые совершили хотя бы 1 заказ, до даты реактивации 2020-03-20.\n"
     ]
    }
   ],
   "source": [
    "day = '2020-03-20'\n",
    "day2 = '2019-12-21'\n",
    "# пользователи которые совершили хотя бы 1 заказ до дня реактивации day\n",
    "# user_order_yes = data.loc[((data['order_date'] <= day) & (data['success_order_flg'] == 1))] \n",
    "user_order_yes = list(data.loc[((data['order_date'] <= day) & (data['success_order_flg'] == 1))]['user_id'].unique())\n",
    "print(f'{len(user_order_yes)} - количество пользователей которые совершили хотя бы 1 заказ, до даты реактивации {day}.')"
   ]
  },
  {
   "cell_type": "code",
   "execution_count": 19,
   "metadata": {},
   "outputs": [
    {
     "name": "stdout",
     "output_type": "stream",
     "text": [
      "0 - количество пользователей, которое не совершали заказы за прошедшие 90 дней до даты реактивации 2020-03-20, хотя делали это ранее.\n"
     ]
    }
   ],
   "source": [
    "# не совершил ни одного заказа в течении предшествующих 90 дней дню day\n",
    "user_order_90day = list(data.loc[(data['order_date'] >= day2) & (data['order_date'] <= day) & (data['success_order_flg'] == 1)]['user_id'].unique())\n",
    "user_no_order_90day = []\n",
    "for i in range(len(user_order_yes)):\n",
    "    if user_order_yes[i] not in user_order_90day:  # если не совершал в 90 дней, но совершал ранее\n",
    "        user_no_order_90day.append(user_order_yes[i])  # добавляем в список не совершавших в 90 дней\n",
    "print(f'{len(user_no_order_90day)} - количество пользователей, которое не совершали заказы за прошедшие 90 дней до даты реактивации {day}, хотя делали это ранее.')"
   ]
  },
  {
   "cell_type": "code",
   "execution_count": 242,
   "metadata": {},
   "outputs": [
    {
     "name": "stdout",
     "output_type": "stream",
     "text": [
      "282 - пользователя совершили заказ на дату реактивации 2020-03-20\n"
     ]
    }
   ],
   "source": [
    "# пользователи совершившие заказ в день day\n",
    "user_order_yes_in_day = list(data.loc[((data['order_date'] == day) & (data['success_order_flg'] == 1))]['user_id'].unique())\n",
    "print(f'{len(user_order_yes_in_day)} - пользователя совершили заказ на дату реактивации {day}')"
   ]
  },
  {
   "cell_type": "code",
   "execution_count": 243,
   "metadata": {},
   "outputs": [
    {
     "name": "stdout",
     "output_type": "stream",
     "text": [
      "0 - пользователей было привлечено в дату 2020-03-20.\n"
     ]
    }
   ],
   "source": [
    "# users_count_new - кол-во пользователей, привлеченных в день date\n",
    "users_count_new = 0\n",
    "for i in range(len(user_order_yes_in_day)):\n",
    "    if user_order_yes_in_day[i] not in user_order_yes:\n",
    "        users_count_new += 1\n",
    "print(f'{users_count_new} - пользователей было привлечено в дату {day}.')"
   ]
  },
  {
   "attachments": {},
   "cell_type": "markdown",
   "metadata": {},
   "source": [
    "#### Сколько пользователей было реактивировано 20 марта 2020 года?"
   ]
  },
  {
   "cell_type": "code",
   "execution_count": 244,
   "metadata": {},
   "outputs": [
    {
     "name": "stdout",
     "output_type": "stream",
     "text": [
      "0 - пользователей было реактивировано в дату реактивации 2020-03-20.\n"
     ]
    }
   ],
   "source": [
    "users_count_reactivated = 0\n",
    "for i in range(len(user_no_order_90day)):\n",
    "    if user_no_order_90day[i] in user_order_yes:\n",
    "        users_count_reactivated += 1\n",
    "print(f'{users_count_reactivated} - пользователей было реактивировано в дату реактивации {day}.')"
   ]
  }
 ],
 "metadata": {
  "kernelspec": {
   "display_name": "Python 3",
   "language": "python",
   "name": "python3"
  },
  "language_info": {
   "codemirror_mode": {
    "name": "ipython",
    "version": 3
   },
   "file_extension": ".py",
   "mimetype": "text/x-python",
   "name": "python",
   "nbconvert_exporter": "python",
   "pygments_lexer": "ipython3",
   "version": "3.9.9"
  },
  "orig_nbformat": 4
 },
 "nbformat": 4,
 "nbformat_minor": 2
}
