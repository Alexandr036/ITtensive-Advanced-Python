{
 "cells": [
  {
   "attachments": {},
   "cell_type": "markdown",
   "metadata": {},
   "source": [
    "Найдите среднее число бросаний игрального кубика, если мы останавливаемся, получив шестёрку."
   ]
  },
  {
   "cell_type": "code",
   "execution_count": 2,
   "metadata": {},
   "outputs": [],
   "source": [
    "# импорт библиотек\n",
    "import random"
   ]
  },
  {
   "cell_type": "code",
   "execution_count": 25,
   "metadata": {},
   "outputs": [
    {
     "name": "stdout",
     "output_type": "stream",
     "text": [
      "Среднее число бросаний игрального кубика, до выпадения 6, равно 5.9973\n"
     ]
    }
   ],
   "source": [
    "count = 0\n",
    "n = 10000\n",
    "for i in range(n):\n",
    "    while True:\n",
    "        side_cube = random.randint(1,6)\n",
    "        count += 1\n",
    "        if side_cube == 6:\n",
    "                break\n",
    "print(f\"Среднее число бросаний игрального кубика, до выпадения 6, равно {count/n}\")\n"
   ]
  },
  {
   "attachments": {},
   "cell_type": "markdown",
   "metadata": {},
   "source": [
    "В городе 3 магазина книг. Вероятность того, что в магазине будет в наличии необходимая студенту книга, равна 0,3. Найдите среднее число магазинов (математическое ожидание), которое посетит студент, чтобы купить книгу (но не факт, что книга будет куплена, в итоге)."
   ]
  },
  {
   "cell_type": "code",
   "execution_count": 280,
   "metadata": {},
   "outputs": [
    {
     "name": "stdout",
     "output_type": "stream",
     "text": [
      "Среднее число посещенных магазинов для покупки 1.8046799999999625 с вероятностью 90% покупки\n",
      "Среднее число посещенных магазинов для покупки 2.104679999999963\n"
     ]
    },
    {
     "data": {
      "text/plain": [
       "2.0999999999999996"
      ]
     },
     "execution_count": 280,
     "metadata": {},
     "output_type": "execute_result"
    }
   ],
   "source": [
    "count = 0\n",
    "n = 10000\n",
    "for i in range(n):\n",
    "    count += random.randint(1,3)*0.9 # обошел 3 магазина и в одном из них нашел 90 % вероятность\n",
    "\n",
    "print(f\"Среднее число посещенных магазинов для покупки {(count/n)} с вероятностью 90% покупки\")\n",
    "print(f\"Среднее число посещенных магазинов для покупки {(count/n)+3 * 0.1}\")\n",
    "p = 0.3 * 1 + 0.3 * 2 + 0.3 * 3 + 3 * 0.1\n",
    "p"
   ]
  },
  {
   "cell_type": "code",
   "execution_count": null,
   "metadata": {},
   "outputs": [],
   "source": []
  }
 ],
 "metadata": {
  "kernelspec": {
   "display_name": "Python 3",
   "language": "python",
   "name": "python3"
  },
  "language_info": {
   "codemirror_mode": {
    "name": "ipython",
    "version": 3
   },
   "file_extension": ".py",
   "mimetype": "text/x-python",
   "name": "python",
   "nbconvert_exporter": "python",
   "pygments_lexer": "ipython3",
   "version": "3.9.9"
  },
  "orig_nbformat": 4
 },
 "nbformat": 4,
 "nbformat_minor": 2
}
