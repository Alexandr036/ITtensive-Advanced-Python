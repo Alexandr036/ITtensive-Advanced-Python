{
 "cells": [
  {
   "attachments": {},
   "cell_type": "markdown",
   "id": "82c65773",
   "metadata": {},
   "source": [
    "## Исключение вероятностей"
   ]
  },
  {
   "attachments": {},
   "cell_type": "markdown",
   "id": "051871f9",
   "metadata": {},
   "source": [
    "Из множества натуральных чисел от 28 до 47 наудачу выбирают одно число.<br> Какова вероятность того, что оно не делится на 3?\n",
    "\n",
    "Найдем с какой вероятностью число будет делиться на 3 из 1 мл попыток и возьмем обратную вероятность, что и будет решением задачи. "
   ]
  },
  {
   "cell_type": "code",
   "execution_count": 1,
   "id": "26f621e6",
   "metadata": {},
   "outputs": [],
   "source": [
    "# подключение библиотеки\n",
    "import random"
   ]
  },
  {
   "cell_type": "code",
   "execution_count": 3,
   "id": "3e3ce8d8",
   "metadata": {},
   "outputs": [
    {
     "name": "stdout",
     "output_type": "stream",
     "text": [
      "0.7\n"
     ]
    }
   ],
   "source": [
    "total = 1000000\n",
    "count = 0  # количество удачных выборов\n",
    "for k in range(total):\n",
    "    num = random.randint(28,47)\n",
    "    if num % 3 ==0:\n",
    "        count +=1\n",
    "print (round(1 - count/total, 2))"
   ]
  },
  {
   "attachments": {},
   "cell_type": "markdown",
   "id": "a8eeb483",
   "metadata": {},
   "source": [
    "У Саши есть три любимых числа: 5, 6, 10.<br>\n",
    "Кроме них, у Саши есть трехзначное число N, не содержащее нулей. Он хочет сделать так, чтобы оно делилось хотя бы на одно из его любимых чисел. Для этого он выбирает две цифры, стоящие на разных позициях, и меняет их местами. И повторяет операцию нужное число раз, пока N не будет делиться на любимое число.<br>\n",
    "Помогите Саше найти вероятность того, что хотя бы одна вариация числа N будет делиться хотя бы на одно из любимых чисел."
   ]
  },
  {
   "attachments": {},
   "cell_type": "markdown",
   "id": "437b4360",
   "metadata": {},
   "source": [
    "НЕ ОСИЛИЛ правильный ОТВЕТ 21.5%"
   ]
  },
  {
   "cell_type": "code",
   "execution_count": 5,
   "id": "1803b9b9",
   "metadata": {},
   "outputs": [],
   "source": [
    "from itertools import permutations\n"
   ]
  },
  {
   "cell_type": "code",
   "execution_count": 6,
   "id": "0db0de48",
   "metadata": {},
   "outputs": [
    {
     "name": "stdout",
     "output_type": "stream",
     "text": [
      "0.52\n"
     ]
    }
   ],
   "source": [
    "favorite_number = [5, 6, 10]\n",
    "\n",
    "total = 1000\n",
    "total_lose = 0\n",
    "for k in range(total):\n",
    "    while True:\n",
    "        num = random.randint(100, 1000)\n",
    "        if '0' not in str(num):\n",
    "            break\n",
    "    combi_num = []\n",
    "    for i in permutations(str(num)):\n",
    "        num_n = ''.join(i)\n",
    "        combi_num.append(int(num_n))\n",
    "    # print(combi_num)\n",
    "    for i in combi_num:\n",
    "        lose = 0\n",
    "        for j in favorite_number:\n",
    "            # print(combi_num[i])\n",
    "            if i % j == 0:\n",
    "                lose +=1\n",
    "                break\n",
    "        if lose == 1:\n",
    "            total_lose +=1\n",
    "            # print(total_lose, i, j,  combi_num)\n",
    "            break\n",
    "\n",
    "\n",
    "print(round(total_lose/total, 2))\n"
   ]
  },
  {
   "cell_type": "code",
   "execution_count": 26,
   "id": "3119fb23",
   "metadata": {},
   "outputs": [],
   "source": [
    "def check(a, d):\n",
    "    for i in a:\n",
    "        if d % i == 0:\n",
    "            return True\n",
    "    return False"
   ]
  },
  {
   "cell_type": "code",
   "execution_count": 24,
   "id": "23f6d966",
   "metadata": {},
   "outputs": [],
   "source": [
    "favorite_number = [5, 6, 10]\n"
   ]
  },
  {
   "cell_type": "code",
   "execution_count": 29,
   "id": "151d2cdb",
   "metadata": {},
   "outputs": [
    {
     "data": {
      "text/plain": [
       "False"
      ]
     },
     "execution_count": 29,
     "metadata": {},
     "output_type": "execute_result"
    }
   ],
   "source": [
    "check(favorite_number, 999)"
   ]
  },
  {
   "attachments": {},
   "cell_type": "markdown",
   "id": "0d570518",
   "metadata": {},
   "source": [
    "\"Счастливым\" считается шестизначный билет, сумма первых трех цифр которого совпадает с суммой последних трех цифр. Найдите вероятность получить \"счастливый\" билет (5,5)"
   ]
  },
  {
   "cell_type": "code",
   "execution_count": 23,
   "id": "b8258dd0",
   "metadata": {},
   "outputs": [],
   "source": [
    "# Проверка билета на счастье\n",
    "def lucky_ticket(num):\n",
    "    number = str(num)\n",
    "    r = l = 0\n",
    "    if len(number)<6:\n",
    "        nam = ('0'*(6-len(number))+number)\n",
    "    else:\n",
    "        nam = number\n",
    "    for i in range(6):\n",
    "        if i <3:\n",
    "            r += int(nam[i])\n",
    "        else:\n",
    "            l += int(nam[i])\n",
    "    return 1 if r == l else 0"
   ]
  },
  {
   "cell_type": "code",
   "execution_count": 36,
   "id": "69a544df",
   "metadata": {},
   "outputs": [
    {
     "name": "stdout",
     "output_type": "stream",
     "text": [
      "Вероятность получить \"счастливый\" билет 5.53 %\n"
     ]
    }
   ],
   "source": [
    "# lucky_ticket(46523)\n",
    "n = 1000000\n",
    "count_lt = 0\n",
    "for i in range(n):\n",
    "    num = random.randint(1,999999)\n",
    "    count_lt += lucky_ticket(num)\n",
    "print(f'Вероятность получить \"счастливый\" билет {round(count_lt/n*100, 2)} %')"
   ]
  },
  {
   "attachments": {},
   "cell_type": "markdown",
   "id": "c0906194",
   "metadata": {},
   "source": [
    "Из 10 карточек с буквами А, Д, А, Б, А, Д, В, Г, Д, А наудачу выбираются 3. Какова вероятность того, что из этих карточек можно сложить слово «ДВА»?\n",
    "\n",
    "Число возможных исходов-количество способов вытянуть три карточки из десяти.\n",
    "\n",
    "n = $C_i^j$\n",
    "\n",
    "Где i - всего карточек<br>\n",
    "j - кол-во карточек которые вытягиваем.\n",
    "\n",
    "n = 10! / 7!*3!\n",
    "\n",
    "Раскладываем факториалы и сокращаем остается:<br>\n",
    "n = 8*9*10 / 1*2*3 = 120\n",
    "\n",
    "A = {из выбранных карточек составить слово \"два\"}<br>\n",
    "Число благоприятных  исходов-количество способов вытянуть 3 буквы из которых можно составить слово \"два\": <br>\n",
    "M = 3*1*4 = 12 по теореме умножения вероятностей независимых событий.\n",
    "\n",
    "Используем формулу классического определения вероятности:\n",
    "\n",
    "P(A) = m/n = 12/120 = 0.1 \n",
    "\n"
   ]
  }
 ],
 "metadata": {
  "kernelspec": {
   "display_name": "Python 3 (ipykernel)",
   "language": "python",
   "name": "python3"
  },
  "language_info": {
   "codemirror_mode": {
    "name": "ipython",
    "version": 3
   },
   "file_extension": ".py",
   "mimetype": "text/x-python",
   "name": "python",
   "nbconvert_exporter": "python",
   "pygments_lexer": "ipython3",
   "version": "3.9.9"
  }
 },
 "nbformat": 4,
 "nbformat_minor": 5
}
