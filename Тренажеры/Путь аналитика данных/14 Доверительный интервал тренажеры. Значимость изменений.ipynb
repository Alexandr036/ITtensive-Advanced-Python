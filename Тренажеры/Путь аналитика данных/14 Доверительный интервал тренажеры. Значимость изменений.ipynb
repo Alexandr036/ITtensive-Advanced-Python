{
 "cells": [
  {
   "attachments": {},
   "cell_type": "markdown",
   "metadata": {},
   "source": [
    "По данным 7 измерений некоторой величины найдены средняя результатов измерений, равная 30 и выборочная дисперсия, равная 36. Найдите границы, в которых с надежностью 0,99 заключено истинное значение измеряемой величины."
   ]
  },
  {
   "cell_type": "code",
   "execution_count": 25,
   "metadata": {},
   "outputs": [
    {
     "name": "stdout",
     "output_type": "stream",
     "text": [
      "99% доверительный интервал равен от 21.6, до 38.4\n"
     ]
    }
   ],
   "source": [
    "t = 3.71  # t критерий\n",
    "n = 7\n",
    "s2 = 36\n",
    "s = s2**0.5\n",
    "x = 30\n",
    "d_int = round(t*(s/(n**0.5)),1)\n",
    "# print(d_int)\n",
    "print(f'99% доверительный интервал равен от {round(x-d_int, 1)}, до {round((x+d_int), 1)}')"
   ]
  },
  {
   "attachments": {},
   "cell_type": "markdown",
   "metadata": {},
   "source": [
    "По группе семей с доходом 154 тысяч руб./чел. зафиксированы следующие цифры потребления молока (л) за месяц (на одного человека): 8,3; 8,6; 8,7; 8,8; 9,1; 9,3; 9,4; 13,4; 13,5; 13,8; 13,9; 14,1; 14,3. Найти доверительный интервал для математического ожидания с надежностью 0.95. Выборка произведена из нормальной совокупности."
   ]
  },
  {
   "cell_type": "code",
   "execution_count": 17,
   "metadata": {},
   "outputs": [],
   "source": [
    "import numpy\n",
    "# import matplotlib.pyplot as plt"
   ]
  },
  {
   "cell_type": "code",
   "execution_count": 14,
   "metadata": {},
   "outputs": [
    {
     "name": "stdout",
     "output_type": "stream",
     "text": [
      "95% доверительный интервал равен от 9.8, до 12.5\n"
     ]
    }
   ],
   "source": [
    "x = [8.3, 8.6, 8.7, 8.8, 9.1, 9.3, 9.4, 13.4, 13.5, 13.8, 13.9, 14.1, 14.3]\n",
    "sdx = round(numpy.std(x), 2)  # стандартное отклонение \n",
    "# print(sdx)\n",
    "n = len(x)\n",
    "# print(n)\n",
    "se = sdx / (n**0.5)  # стандартная ошибка среднего \n",
    "# print(se)\n",
    "x1 = sum(x)/n\n",
    "# print(round(1.96*se, 2))\n",
    "print(f'95% доверительный интервал равен от {round(x1-1.96*se, 1)}, до {round(x1+1.96*se, 1)}')"
   ]
  },
  {
   "cell_type": "code",
   "execution_count": 16,
   "metadata": {},
   "outputs": [
    {
     "name": "stdout",
     "output_type": "stream",
     "text": [
      "95% доверительный интервал равен от 9.7, до 12.7\n"
     ]
    }
   ],
   "source": [
    "#мы работаем с небольшой выборкой (n <30), мы можем использовать функцию t распределение\n",
    "t = 2.16 # t-значение, соответствующее доверительному уровню\n",
    "n = 13\n",
    "d_int = round(t*se,1)\n",
    "# print(d_int)\n",
    "# print(x1-d_int)\n",
    "# print(x1+d_int)\n",
    "print(f'95% доверительный интервал равен от {round(x1-+d_int, 1)}, до {round(x1+d_int, 1)}')"
   ]
  },
  {
   "attachments": {},
   "cell_type": "markdown",
   "metadata": {},
   "source": [
    "Доверительный интервал для пропорции\n",
    "\n",
    "Оцениваем π выборочным отношением p=r/n (где r – количество индивидуумов в выборке с интересующими нас характерными особенностями), и стандартная ошибка оценивается:\n",
    "\n",
    "sdx = ((p*(1-p ))/ n)**0.5\n",
    "\n",
    "95% доверительный интервал для пропорции оценивается:\n",
    "(p - (1.96 * sdx)) (p + (1.96 * sdx)) \n",
    "\n",
    "Если объём выборки небольшой (обычно когда np или n(1-p) меньше 5), тогда необходимо использовать биномиальное распределение для того, чтобы вычислить точные доверительные интервалы.\n",
    "Заметьте, что если p выражается в процентах, то (1-p) заменяют на (100-p)."
   ]
  },
  {
   "attachments": {},
   "cell_type": "markdown",
   "metadata": {},
   "source": [
    "С целью размещения рекламы опрошено 420 телезрителей, из которых данную передачу смотрят 170 человек. С доверительной вероятностью γ=0,91 найти долю телезрителей, охваченных рекламой в лучшем случае."
   ]
  },
  {
   "cell_type": "code",
   "execution_count": 48,
   "metadata": {},
   "outputs": [
    {
     "name": "stdout",
     "output_type": "stream",
     "text": [
      "В худшем случае 36.4 %. В лучшем случае 44.5 %\n"
     ]
    }
   ],
   "source": [
    "r = 170\n",
    "n = 420\n",
    "p = r/n\n",
    "sdx = ((p*(1-p ))/ n)**0.5\n",
    "# для 91 % будет ty = 1.69\n",
    "d_int_min = (p - (1.69 * sdx))\n",
    "d_int_max = (p + (1.69 * sdx))\n",
    "\n",
    "print('В худшем случае', round(d_int_min*100, 1), '%.',  'В лучшем случае', round(d_int_max*100, 1), '%')\n"
   ]
  },
  {
   "attachments": {},
   "cell_type": "markdown",
   "metadata": {},
   "source": [
    "Из генеральной совокупности извлечена выборка<br> объема n = 10:<br>\n",
    "вариант xi -2 1 2 3 4 5<br>\n",
    "частота  ni   2 1 2 2 2 1<br>\n",
    "Оценить с надежностью γ = 0.95 математическое ожидание a нормально распределенного признака генеральной совокупности по выборочной средней при помощи доверительного интервала."
   ]
  },
  {
   "cell_type": "code",
   "execution_count": 27,
   "metadata": {},
   "outputs": [
    {
     "data": {
      "text/plain": [
       "20"
      ]
     },
     "execution_count": 27,
     "metadata": {},
     "output_type": "execute_result"
    }
   ],
   "source": [
    "n = 10\n",
    "xi = [-2, 1, 2, 3, 4, 5]\n",
    "ni =  [2, 1, 2, 2, 2, 1]\n",
    "y=0.95\n",
    "ty = 2.2622\n",
    "xi1 = [-2, -2, 1, 2, 2, 3, 3, 4, 4, 5]\n",
    "xi1s = -2*2 + 1*1 + 2*2 + 3*2 + 4*2 + 5*1\n",
    "xi1s \n"
   ]
  },
  {
   "cell_type": "code",
   "execution_count": 28,
   "metadata": {},
   "outputs": [
    {
     "name": "stdout",
     "output_type": "stream",
     "text": [
      " x среднее равное 2.0\n"
     ]
    }
   ],
   "source": [
    "x_ = sum(xi1) / 10\n",
    "print(f\" x среднее равно {x_}\")"
   ]
  },
  {
   "cell_type": "code",
   "execution_count": 31,
   "metadata": {},
   "outputs": [
    {
     "name": "stdout",
     "output_type": "stream",
     "text": [
      "Cтандартное отклонение равно 2.28\n"
     ]
    }
   ],
   "source": [
    "sdx = numpy.std(xi1)  # стандартное отклонение \n",
    "print(f\"Cтандартное отклонение равно {round(sdx, 3)}\")"
   ]
  },
  {
   "cell_type": "code",
   "execution_count": 34,
   "metadata": {},
   "outputs": [
    {
     "name": "stdout",
     "output_type": "stream",
     "text": [
      "Cтандартная ошибка среднего равна 0.721\n"
     ]
    }
   ],
   "source": [
    "se = sdx / n**0.5  # стандартная ошибка среднего \n",
    "print(f\"Cтандартная ошибка среднего равна {round(se, 3)}\")"
   ]
  },
  {
   "cell_type": "code",
   "execution_count": 36,
   "metadata": {},
   "outputs": [
    {
     "name": "stdout",
     "output_type": "stream",
     "text": [
      "95% доверительный интервал равен от 0.37, до 3.63\n"
     ]
    }
   ],
   "source": [
    "d_int = round(ty*se,3)  # доверительный интервал\n",
    "print(f'95% доверительный интервал равен от {round(x_-d_int, 2)}, до {round(x_+d_int, 2)}')\n",
    "# print(d_int)\n"
   ]
  }
 ],
 "metadata": {
  "kernelspec": {
   "display_name": "Python 3",
   "language": "python",
   "name": "python3"
  },
  "language_info": {
   "codemirror_mode": {
    "name": "ipython",
    "version": 3
   },
   "file_extension": ".py",
   "mimetype": "text/x-python",
   "name": "python",
   "nbconvert_exporter": "python",
   "pygments_lexer": "ipython3",
   "version": "3.9.9"
  },
  "orig_nbformat": 4
 },
 "nbformat": 4,
 "nbformat_minor": 2
}
