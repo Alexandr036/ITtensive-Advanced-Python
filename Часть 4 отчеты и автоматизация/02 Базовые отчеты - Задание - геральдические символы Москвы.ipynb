{
 "cells": [
  {
   "cell_type": "markdown",
   "id": "f7046cfe",
   "metadata": {},
   "source": [
    "Задание: геральдические символы Москвы\n",
    "\n",
    "Сгенерируйте PDF документ из списка флагов и гербов районов Москвы:\n",
    "https://video.ittensive.com/python-advanced/data-102743-2019-11-13.utf.csv\n",
    "На каждой странице документа выведите название геральдического символа (Name), его описание (Description) и его изображение (Picture).\n",
    "\n",
    "Для показа изображений используйте адрес\n",
    "https://op.mos.ru/MEDIA/showFile?id=XXX\n",
    "где XXX - это значение поля Picture в наборе данных. Например:\n",
    "https://op.mos.ru/MEDIA/showFile?id=8466da35-6801-41a9-a71e-04b60408accb\n",
    "\n",
    "В случае возникновения проблем с загрузкой изображений с op.mos.ru можно добавить в код настройку для форсирования использования дополнительных видов шифрования в протоколе SSL/TLS.\n",
    "requests.packages.urllib3.util.ssl_.DEFAULT_CIPHERS = 'ALL:@SECLEVEL=1'"
   ]
  },
  {
   "cell_type": "code",
   "execution_count": 12,
   "id": "93227eed",
   "metadata": {},
   "outputs": [
    {
     "data": {
      "text/plain": [
       "True"
      ]
     },
     "execution_count": 12,
     "metadata": {},
     "output_type": "execute_result"
    }
   ],
   "source": [
    "import requests \n",
    "import requests.packages.urllib3.util.ssl_# необходима для корректной работы с SSl соединением\n",
    "import pdfkit  # для формирования PDF файта отчета\n",
    "import pandas as pd\n",
    "\n",
    "#для коректной работы с SSL/TSL сайта с которого берем картинку\n",
    "requests.packages.urllib3.util.ssl_.DEFAULT_CIPHERS = 'ALL:@SECLEVEL=1'\n",
    "\n",
    "# конфигурируем pdfkit\n",
    "config =  pdfkit.configuration(wkhtmltopdf=\"D:/wkhtmltopdf/bin/wkhtmltopdf.exe\")\n",
    "\n",
    "# вгружаем данные в датафрейм \n",
    "data = pd.read_csv(\"https://video.ittensive.com/python-advanced/data-102743-2019-11-13.utf.csv\", delimiter=\";\")\n",
    "\n",
    "# формируем HTML код (станицу) для создания отчета\n",
    "html ='''<html>\n",
    "<head><title>Геральдические символы города Москва</title><meta charset=\"utf-8\"/></head> \n",
    "<body>''' \n",
    "for i, item in data.iterrows():  # перебираем дата фрейм по строчно\n",
    "    if i == 0:   # если заголовок первый просто вставляем\n",
    "        html += '<h1>' + item[\"Name\"] + '</h1>'\n",
    "    else:  # если нет то, вставляем вместе с разрывом страницы (т.е. сновой страницы будет начинаться)\n",
    "        html += '<h1 style=\"page-break-before:always\">' + item[\"Name\"] + '</h1>'\n",
    "        # вставляем картинку для каждого гер.знака свою, ссылку подтягиваем из дата фрейма, размер и отступ сраницы width:75%;margin-left:10%\n",
    "    html += '''<p> \n",
    "    <img style=\"width:75%;margin-left:10%\"\n",
    "        src=\"https://op.mos.ru/MEDIA/showFile?id=''' + item[\"Picture\"] + '''\"/>\n",
    "        </p>'''\n",
    "    # вставляем описание, для каждого герал.занка своё, берем из датафрейма, размер шрифта font-size:125%\n",
    "    html += '<p style=\"font-size:125%\">'+ item[\"Description\"] + '</p>'\n",
    "html += '''</body></html>'''\n",
    "\n",
    "# прописываем опции для pdfkit (размер страницы и нумерацию)\n",
    "options = {\n",
    "    'page-size': 'A4',\n",
    "    'header-right': '[page]'\n",
    "}\n",
    "\n",
    "# из HTML кода собираем PDF докумет \n",
    "pdfkit.from_string(html, 'heraldic.pdf',\n",
    "                    configuration=config, options=options)"
   ]
  }
 ],
 "metadata": {
  "kernelspec": {
   "display_name": "Python 3 (ipykernel)",
   "language": "python",
   "name": "python3"
  },
  "language_info": {
   "codemirror_mode": {
    "name": "ipython",
    "version": 3
   },
   "file_extension": ".py",
   "mimetype": "text/x-python",
   "name": "python",
   "nbconvert_exporter": "python",
   "pygments_lexer": "ipython3",
   "version": "3.10.5"
  }
 },
 "nbformat": 4,
 "nbformat_minor": 5
}
