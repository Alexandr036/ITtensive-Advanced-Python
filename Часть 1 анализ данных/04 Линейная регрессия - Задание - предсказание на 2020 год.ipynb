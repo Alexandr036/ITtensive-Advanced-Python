{
 "cells": [
  {
   "cell_type": "markdown",
   "id": "fe617b85",
   "metadata": {},
   "source": [
    "Задание: предсказание на 2020 год\n",
    "\n",
    "Возьмите данные по безработице в городе Москва:\n",
    "video.ittensive.com/python-advanced/data-9753-2019-07-25.utf.csv\n",
    "\n",
    "Сгруппируйте данные по годам, и, если в году меньше 6 значений, отбросьте эти годы.\n",
    "\n",
    "Постройте модель линейной регрессии по годам среднего значения отношения UnemployedDisabled к UnemployedTotal (процента людей с ограниченными возможностями) за месяц и ответьте, какое ожидается значение процента безработных инвалидов в 2020 году при сохранении текущей политики города Москвы?\n",
    "\n",
    "Ответ округлите до сотых. Например, 2,32\n",
    "\n",
    "from sklearn.linear_model import LinearRegression # для постороения линейной регрессии"
   ]
  },
  {
   "cell_type": "code",
   "execution_count": 68,
   "id": "5d74f8d6",
   "metadata": {},
   "outputs": [
    {
     "name": "stdout",
     "output_type": "stream",
     "text": [
      "[[1.51512213]]\n"
     ]
    }
   ],
   "source": [
    "import pandas as pd\n",
    "import numpy as np\n",
    "from sklearn.linear_model import LinearRegression  # модуль для построения модели линейной регрессии\n",
    "\n",
    "data = pd.read_csv(\"http://video.ittensive.com/python-advanced/data-9753-2019-07-25.utf.csv\", delimiter=\";\")\n",
    "\n",
    "data[\"D/T\"] = data.apply(lambda x: 100*x[6]/x[7], axis=1) \n",
    "# сформируем столбец процент людей с огран.возможнотсями по отношению к общему числу безраб.\n",
    "\n",
    "data = data.groupby(\"Year\").filter(lambda x: x[\"UnemployedDisabled\"].count()>5)\n",
    "# откинем все значения не удволетваряющие условию \" если в году меньше 6 значений\"\n",
    "\n",
    "data_avg = data.groupby(\"Year\").mean(\"D/T\") # груп. данные во фрейме по году, со средними значениями по проценту огранич.возм. к общему\n",
    "x = np.array(data_avg.index).reshape(len(data_avg.index),1) # берем индекс данных из группы (год) преобразуем его к таблице (reshape)\n",
    "y = np.array(data_avg[\"D/T\"]).reshape(len(data_avg.index),1) # берем среднее значение данных \"D/T\" из группы преобразуем его к таблице (reshape)\n",
    "model = LinearRegression() #вызываем модель\n",
    "model.fit(x, y) # вгрузим данные\n",
    "print(model.predict(np.array(2020).reshape(1, 1))) #выведем предсказания\n"
   ]
  },
  {
   "cell_type": "code",
   "execution_count": null,
   "id": "434b8dd9",
   "metadata": {},
   "outputs": [],
   "source": []
  }
 ],
 "metadata": {
  "kernelspec": {
   "display_name": "Python 3 (ipykernel)",
   "language": "python",
   "name": "python3"
  },
  "language_info": {
   "codemirror_mode": {
    "name": "ipython",
    "version": 3
   },
   "file_extension": ".py",
   "mimetype": "text/x-python",
   "name": "python",
   "nbconvert_exporter": "python",
   "pygments_lexer": "ipython3",
   "version": "3.10.5"
  }
 },
 "nbformat": 4,
 "nbformat_minor": 5
}
