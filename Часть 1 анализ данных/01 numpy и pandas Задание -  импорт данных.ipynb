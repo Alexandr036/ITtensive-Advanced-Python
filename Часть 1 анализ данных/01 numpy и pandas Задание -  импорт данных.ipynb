{
 "cells": [
  {
   "cell_type": "markdown",
   "id": "399e0b17",
   "metadata": {},
   "source": [
    "Возьмите данные по вызовам пожарных служб в Москве за 2015-2019 годы:\n",
    "\n",
    "https://video.ittensive.com/python-advanced/data-5283-2019-10-04.utf.csv\n",
    "Получите из них фрейм данных (таблицу значений). \n",
    "\n",
    "По этому фрейму вычислите среднее значение вызовов пожарных машин в месяц в одном округе Москвы, округлив до целых\n",
    "Примечание: найдите среднее значение вызовов, без учета года"
   ]
  },
  {
   "cell_type": "markdown",
   "id": "2f856b65",
   "metadata": {},
   "source": []
  },
  {
   "cell_type": "code",
   "execution_count": 3,
   "id": "66dc227e",
   "metadata": {
    "scrolled": true
   },
   "outputs": [
    {
     "name": "stdout",
     "output_type": "stream",
     "text": [
      "   ID                                  AdmArea  Year  global_id   Month  \\\n",
      "0   1       Центральный административный округ  2015   37153160  Январь   \n",
      "1   2          Северный административный округ  2015   37153161  Январь   \n",
      "2   3  Северо-Восточный административный округ  2015   37153162  Январь   \n",
      "3   4         Восточный административный округ  2015   37153163  Январь   \n",
      "4   5     Юго-Восточный административный округ  2015   37153164  Январь   \n",
      "\n",
      "   Calls  Unnamed: 6  \n",
      "0    408         NaN  \n",
      "1    408         NaN  \n",
      "2    445         NaN  \n",
      "3    619         NaN  \n",
      "4    541         NaN   \n",
      "\n",
      "Среднее значение вызовов пожарных машин в месяц в одном округе Москвы: 493\n"
     ]
    }
   ],
   "source": [
    "import pandas as pd  # подключим библиотеку pandas\n",
    "\n",
    "\n",
    "data = pd.read_csv(\"https://video.ittensive.com/python-advanced/data-5283-2019-10-04.utf.csv\", \n",
    "                   delimiter=\";\")  # загрузим данные\n",
    "print(data.head(5), '\\n')  # выведем шапку датафрейма, чтобы убедиться, что все корректно загрузилось\n",
    "\n",
    "# Выведем среднее значение вызовов пожарных машин в месяц в одном округе Москвы округлив до целых\n",
    "print('Среднее значение вызовов пожарных машин в месяц в одном округе Москвы:', round(data[\"Calls\"].mean()))"
   ]
  }
 ],
 "metadata": {
  "kernelspec": {
   "display_name": "Python 3.10.5 64-bit",
   "language": "python",
   "name": "python3"
  },
  "language_info": {
   "codemirror_mode": {
    "name": "ipython",
    "version": 3
   },
   "file_extension": ".py",
   "mimetype": "text/x-python",
   "name": "python",
   "nbconvert_exporter": "python",
   "pygments_lexer": "ipython3",
   "version": "3.11.4"
  },
  "vscode": {
   "interpreter": {
    "hash": "cabc1c0307ff36ad707732aa9193e5f78d475ef32be73cdd13d0523dc404be35"
   }
  }
 },
 "nbformat": 4,
 "nbformat_minor": 5
}
