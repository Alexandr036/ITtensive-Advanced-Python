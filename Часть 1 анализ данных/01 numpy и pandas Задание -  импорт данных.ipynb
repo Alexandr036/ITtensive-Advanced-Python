{
 "cells": [
  {
   "cell_type": "markdown",
   "id": "399e0b17",
   "metadata": {},
   "source": [
    "Возьмите данные по вызовам пожарных служб в Москве за 2015-2019 годы:\n",
    "\n",
    "https://video.ittensive.com/python-advanced/data-5283-2019-10-04.utf.csv\n",
    "Получите из них фрейм данных (таблицу значений). \n",
    "\n",
    "По этому фрейму вычислите среднее значение вызовов пожарных машин в месяц в одном округе Москвы, округлив до целых\n",
    "Примечание: найдите среднее значение вызовов, без учета года"
   ]
  },
  {
   "cell_type": "markdown",
   "id": "2f856b65",
   "metadata": {},
   "source": []
  },
  {
   "cell_type": "code",
   "execution_count": 18,
   "id": "66dc227e",
   "metadata": {
    "scrolled": true
   },
   "outputs": [
    {
     "name": "stdout",
     "output_type": "stream",
     "text": [
      "493\n"
     ]
    }
   ],
   "source": [
    "import pandas as pd # подключим библиотеку pandas\n",
    "data = pd.read_csv(\"https://video.ittensive.com/python-advanced/data-5283-2019-10-04.utf.csv\", delimiter = \";\")  # загрузим данные в датафрейм \n",
    "#print(data.head)  # выведем шапку датафрейма, чтобы убедиться, что все корректно загрузилось\n",
    "print (round(data[\"Calls\"].mean())) # выведем среднее значение вызовов пожарных машин в месяц в одном округе Москвы округлив до целых"
   ]
  }
 ],
 "metadata": {
  "kernelspec": {
   "display_name": "Python 3 (ipykernel)",
   "language": "python",
   "name": "python3"
  },
  "language_info": {
   "codemirror_mode": {
    "name": "ipython",
    "version": 3
   },
   "file_extension": ".py",
   "mimetype": "text/x-python",
   "name": "python",
   "nbconvert_exporter": "python",
   "pygments_lexer": "ipython3",
   "version": "3.10.5"
  }
 },
 "nbformat": 4,
 "nbformat_minor": 5
}
