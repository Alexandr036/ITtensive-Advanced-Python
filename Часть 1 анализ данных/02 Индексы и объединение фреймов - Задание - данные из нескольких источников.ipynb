{
 "cells": [
  {
   "cell_type": "markdown",
   "id": "a571ce4b",
   "metadata": {},
   "source": [
    "Получите данные по безработице в Москве:\n",
    "https://video.ittensive.com/python-advanced/data-9753-2019-07-25.utf.csv\n",
    "\n",
    "Объедините эти данные индексами (Месяц/Год) с данными из предыдущего задания (вызовы пожарных) для Центральный административный округ:\n",
    "https://video.ittensive.com/python-advanced/data-5283-2019-10-04.utf.csv\n",
    "\n",
    "Найдите значение поля UnemployedMen в том месяце, когда было меньше всего вызовов в Центральном административном округе."
   ]
  },
  {
   "cell_type": "code",
   "execution_count": 3,
   "id": "29f90e79",
   "metadata": {
    "scrolled": true
   },
   "outputs": [
    {
     "name": "stdout",
     "output_type": "stream",
     "text": [
      "    Год  UnemployedMen    Месяц  Звонки\n",
      "1  2015          13465  Февраль     220\n"
     ]
    }
   ],
   "source": [
    "import pandas as pd\n",
    "data_unemployment = pd.read_csv(\"https://video.ittensive.com/python-advanced/data-9753-2019-07-25.utf.csv\", delimiter=\";\")\n",
    "data_firefighters = pd.read_csv(\"https://video.ittensive.com/python-advanced/data-5283-2019-10-04.utf.csv\", delimiter=\";\")\n",
    "# из первого и второго набора данных удалим не нужные столбцы\n",
    "data_unemployment = data_unemployment.drop(labels=[\"global_id\", \"ID\", \"Unnamed: 9\", \"UnemployedWomen\", \"UnemployedYoung\", \"UnemployedDisabled\", \"UnemployedTotal\" ], axis=1)\n",
    "data_firefighters = data_firefighters.drop(labels=[\"ID\", \"global_id\", \"Unnamed: 6\"], axis=1)\n",
    "# переименуем колонки в наборах данных\n",
    "data_unemployment.columns = [\"Год\",\"UnemployedMen\", \"Месяц\" ]\n",
    "data_firefighters.columns = [\"Округ\",\"Год\", \"Месяц\", \"Звонки\" ]\n",
    "\n",
    "area_indexes = data_firefighters[data_firefighters[\"Округ\"].str.contains(\"Центральный\")].index  # создадим список номеров индекса центрального округа\n",
    "#print(area_indexes)\n",
    "\n",
    "# создадим списк занчений округа (или центарльный или другой) по ранее созданному списку индексов центрального округа\n",
    "data_areas_index = [(lambda n:\"Центральный\" if n in area_indexes else \"Другой\")(i) for i in range(0, len(data_firefighters.index))]\n",
    "#print(data_areas_index)\n",
    "\n",
    "data_firefighters[\"Тип\"] = data_areas_index  # добавялем в наш фреймданных еще одну серию и скажем, что это индекс наших зон\n",
    "\n",
    "data_firefighters = data_firefighters.set_index([\"Тип\", \"Округ\"])  # после этого назначем уже мульти индекс\n",
    "#data_firefighters = data_firefighters.sort_index() # отсортировали данные по индексам\n",
    "areas = data_firefighters.loc[\"Центральный\"]  # срез данных по значению мульти индекса\n",
    "data = pd.merge(data_unemployment, areas)  # объединим данные по индексам\n",
    "\n",
    "min_Calls = data[data['Звонки']==data['Звонки'].min()]  # найдем минимальное количество вызовов\n",
    "\n",
    "print(min_Calls)\n",
    "# print(data)"
   ]
  },
  {
   "cell_type": "markdown",
   "id": "18577bc3",
   "metadata": {},
   "source": [
    "Более простое решение от ittensive"
   ]
  },
  {
   "cell_type": "code",
   "execution_count": 20,
   "id": "bf19c6e7",
   "metadata": {},
   "outputs": [
    {
     "name": "stdout",
     "output_type": "stream",
     "text": [
      "Calls\n",
      "220    13465\n",
      "Name: UnemployedMen, dtype: int64\n"
     ]
    }
   ],
   "source": [
    "import pandas as pd\n",
    "data_1 = pd.read_csv(\"https://video.ittensive.com/python-advanced/data-9753-2019-07-25.utf.csv\", delimiter=\";\")\n",
    "data_1 = data_1.set_index([\"Year\", \"Period\"]) #Создаем множественные индексы\n",
    "#print(data_1.head)\n",
    "data_2 = pd.read_csv(\"https://video.ittensive.com/python-advanced/data-5283-2019-10-04.utf.csv\", delimiter=\";\")\n",
    "data_2 = data_2.set_index([\"AdmArea\", \"Year\", \"Month\"]) #Создаем множественные индексы\n",
    "# Индекс округ создали для того, чтобы выбрать множественные занчения \n",
    "data_2 = data_2.loc[\"Центральный административный округ\"]\n",
    "#print(data_2.head)\n",
    "#Для того, чтобы обьеденить колонки по индексам, нужно чтобы у них было одинаковое название.\n",
    "# скажем, что теперь индексы у data_2 будут \"Year\", \"Period\" через свойства index.name\n",
    "data_2.index.names = [\"Year\", \"Period\"]\n",
    "#После этого можно будет спокойно произвести объединение по индексам\n",
    "data = pd.merge(data_1, data_2, left_index=True, right_index=True)\n",
    "# для того чтобы найти значение поля UnemployedMen в том месяце, когда было меньше всего вызовов\n",
    "# нужно отбросить тек. индекс, он свою задачу решил, по нему объеденили данные, и назначить новый индекс по кол-ву вызовов\n",
    "data = data.reset_index() # Сбросили индекс\n",
    "data = data.set_index(\"Calls\") # назначили новый\n",
    "data = data.sort_index() # отсортировали по индексу (по возраст.)\n",
    "#print(data.head) # выведя шапку уже получим результат.\n",
    "#print(data[0:1]) # выведем только 1ю строку (так как осорт по возраст. выз.) и получим нужный результат.\n",
    "print(data[\"UnemployedMen\"].iloc[0:1]) # значение только UnemployedMen, при минимальном кол-ве вызовов"
   ]
  }
 ],
 "metadata": {
  "kernelspec": {
   "display_name": "Python 3.10.5 64-bit",
   "language": "python",
   "name": "python3"
  },
  "language_info": {
   "codemirror_mode": {
    "name": "ipython",
    "version": 3
   },
   "file_extension": ".py",
   "mimetype": "text/x-python",
   "name": "python",
   "nbconvert_exporter": "python",
   "pygments_lexer": "ipython3",
   "version": "3.10.5"
  },
  "vscode": {
   "interpreter": {
    "hash": "cabc1c0307ff36ad707732aa9193e5f78d475ef32be73cdd13d0523dc404be35"
   }
  }
 },
 "nbformat": 4,
 "nbformat_minor": 5
}
