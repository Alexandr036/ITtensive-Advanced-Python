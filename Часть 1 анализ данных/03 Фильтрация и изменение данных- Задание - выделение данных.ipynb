{
 "cells": [
  {
   "cell_type": "markdown",
   "id": "02917c61",
   "metadata": {},
   "source": [
    "Задание: выделение данных\n",
    "Получите данные по безработице в Москве:\n",
    "https://video.ittensive.com/python-advanced/data-9753-2019-07-25.utf.csv\n",
    "Найдите, с какого года процент людей с ограниченными возможностями (UnemployedDisabled) среди всех безработных (UnemployedTotal) стал меньше 2%."
   ]
  },
  {
   "cell_type": "code",
   "execution_count": 9,
   "id": "747a9a82",
   "metadata": {},
   "outputs": [
    {
     "name": "stdout",
     "output_type": "stream",
     "text": [
      "    global_id   ID  Year  UnemployedMen  UnemployedWomen  UnemployedYoung  \\\n",
      "91  894075540   96  2018          10651            14043             2829   \n",
      "92  896740236   97  2018          10763            14375             2892   \n",
      "93  904345746   98  2018          11080            14610             2911   \n",
      "94  909303094   99  2018          12063            15815             3077   \n",
      "95  918869065  100  2019          12225            16078             2960   \n",
      "96  918869066  101  2019          13123            16904             3103   \n",
      "97  918869067  102  2019          13433            17164             3102   \n",
      "98  926094627  103  2019          13803            17319             3060   \n",
      "99  933200250  104  2019          12818            16221             2711   \n",
      "\n",
      "    UnemployedDisabled  UnemployedTotal    Period  Unnamed: 9  \n",
      "91                 472            24694  Сентябрь         NaN  \n",
      "92                 477            25138   Октябрь         NaN  \n",
      "93                 467            25690    Ноябрь         NaN  \n",
      "94                 527            27878   Декабрь         NaN  \n",
      "95                 533            28303    Январь         NaN  \n",
      "96                 575            30027   Февраль         NaN  \n",
      "97                 593            30597      Март         NaN  \n",
      "98                 593            31122    Апрель         NaN  \n",
      "99                 577            29039       Май         NaN  \n"
     ]
    }
   ],
   "source": [
    "import pandas as pd\n",
    "data = pd.read_csv(\"https://video.ittensive.com/python-advanced/data-9753-2019-07-25.utf.csv\", delimiter=\";\") \n",
    "data_1 = data[(data[\"UnemployedDisabled\"] / data[\"UnemployedTotal\"]) < 0.02]\n",
    "print(data_1)\n"
   ]
  },
  {
   "cell_type": "markdown",
   "id": "6b058f07",
   "metadata": {},
   "source": [
    "Через лямбда функцию с доп столбцом"
   ]
  },
  {
   "cell_type": "code",
   "execution_count": 18,
   "id": "fd9d16a7",
   "metadata": {},
   "outputs": [
    {
     "name": "stdout",
     "output_type": "stream",
     "text": [
      "Int64Index([2018], dtype='int64', name='Year')\n"
     ]
    }
   ],
   "source": [
    "import pandas as pd\n",
    "data = pd.read_csv(\"https://video.ittensive.com/python-advanced/data-9753-2019-07-25.utf.csv\", delimiter=\";\") \n",
    "data[\"Процент\"] = data.apply(lambda x: 100*x[6]/x[7], axis=1)\n",
    "data = data[data[\"Процент\"] < 2]\n",
    "data = data.set_index(\"Year\")\n",
    "data = data.sort_index()\n",
    "print(data.index[0:1])\n"
   ]
  },
  {
   "cell_type": "code",
   "execution_count": null,
   "id": "b56b1759",
   "metadata": {},
   "outputs": [],
   "source": []
  }
 ],
 "metadata": {
  "kernelspec": {
   "display_name": "Python 3 (ipykernel)",
   "language": "python",
   "name": "python3"
  },
  "language_info": {
   "codemirror_mode": {
    "name": "ipython",
    "version": 3
   },
   "file_extension": ".py",
   "mimetype": "text/x-python",
   "name": "python",
   "nbconvert_exporter": "python",
   "pygments_lexer": "ipython3",
   "version": "3.10.5"
  }
 },
 "nbformat": 4,
 "nbformat_minor": 5
}
