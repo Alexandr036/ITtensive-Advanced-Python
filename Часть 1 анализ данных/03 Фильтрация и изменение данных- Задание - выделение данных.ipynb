{
 "cells": [
  {
   "cell_type": "markdown",
   "id": "02917c61",
   "metadata": {},
   "source": [
    "Задание: выделение данных\n",
    "\n",
    "Получите данные по безработице в Москве:\n",
    "https://video.ittensive.com/python-advanced/data-9753-2019-07-25.utf.csv\n",
    "\n",
    "Найдите, с какого года процент людей с ограниченными возможностями (UnemployedDisabled) среди всех безработных (UnemployedTotal) стал меньше 2%."
   ]
  },
  {
   "cell_type": "code",
   "execution_count": 6,
   "id": "747a9a82",
   "metadata": {},
   "outputs": [
    {
     "name": "stdout",
     "output_type": "stream",
     "text": [
      "91    2018\n",
      "Name: Year, dtype: int64\n"
     ]
    }
   ],
   "source": [
    "import pandas as pd\n",
    "data = pd.read_csv(\"https://video.ittensive.com/python-advanced/data-9753-2019-07-25.utf.csv\", delimiter=\";\") \n",
    "data = data[(data[\"UnemployedDisabled\"] / data[\"UnemployedTotal\"]) < 0.02]\n",
    "print(data[\"Year\"].iloc[0:1])\n"
   ]
  },
  {
   "cell_type": "markdown",
   "id": "6b058f07",
   "metadata": {},
   "source": [
    "Через лямбда функцию с доп столбцом"
   ]
  },
  {
   "cell_type": "code",
   "execution_count": 7,
   "id": "fd9d16a7",
   "metadata": {},
   "outputs": [
    {
     "name": "stdout",
     "output_type": "stream",
     "text": [
      "Int64Index([2018], dtype='int64', name='Year')\n"
     ]
    }
   ],
   "source": [
    "import pandas as pd\n",
    "data = pd.read_csv(\"https://video.ittensive.com/python-advanced/data-9753-2019-07-25.utf.csv\", delimiter=\";\") \n",
    "data[\"Процент\"] = data.apply(lambda x: 100*x[6]/x[7], axis=1)\n",
    "data = data[data[\"Процент\"] < 2]\n",
    "data = data.set_index(\"Year\")\n",
    "data = data.sort_index()\n",
    "print(data.index[0:1])\n"
   ]
  }
 ],
 "metadata": {
  "kernelspec": {
   "display_name": "Python 3.10.5 64-bit",
   "language": "python",
   "name": "python3"
  },
  "language_info": {
   "codemirror_mode": {
    "name": "ipython",
    "version": 3
   },
   "file_extension": ".py",
   "mimetype": "text/x-python",
   "name": "python",
   "nbconvert_exporter": "python",
   "pygments_lexer": "ipython3",
   "version": "3.10.5"
  },
  "vscode": {
   "interpreter": {
    "hash": "cabc1c0307ff36ad707732aa9193e5f78d475ef32be73cdd13d0523dc404be35"
   }
  }
 },
 "nbformat": 4,
 "nbformat_minor": 5
}
